{
 "cells": [
  {
   "cell_type": "code",
   "execution_count": null,
   "id": "3f785607-719f-441e-99dc-43bb71ce0ab1",
   "metadata": {
    "tags": []
   },
   "outputs": [],
   "source": [
    "import sys\n",
    "\n",
    "import pandas as pd\n",
    "\n",
    "sys.path.append(\"/workspace/multivariate-correlation-anomaly-detection/\")\n",
    "from utils.etl_utils import find_anomalies"
   ]
  },
  {
   "cell_type": "code",
   "execution_count": null,
   "id": "aafcbf30-170e-4950-90ab-eb26d3545f2b",
   "metadata": {
    "tags": []
   },
   "outputs": [],
   "source": [
    "pd.set_option(\"display.max_columns\", None)\n",
    "pd.set_option(\"display.max_rows\", None)\n",
    "report_df = pd.read_csv(\"./model_result_csvs/ATTNONEDIMGRURESMAPCORRCLASS/epoch_649-20240109130804/report_preds_err_degree-val.csv\", index_col=['pair_name', 'data_category'])\n",
    "display_report_df = report_df.loc[(slice(None), [\"new_labels\", \"preds\", \"preds_err_degree\"]), :].sort_index(axis=0, level=0)\n",
    "display(display_report_df)\n",
    "\n",
    "find_anomalies(model_name=\"ATTNONEDIMGRURESMAPCORRCLASS\", model_weights_name=\"epoch_649-20240109130804\", data_sp_mode=\"val\", save_report=True)"
   ]
  },
  {
   "cell_type": "code",
   "execution_count": null,
   "id": "698ce439-4997-419a-83b7-894447025950",
   "metadata": {},
   "outputs": [],
   "source": []
  }
 ],
 "metadata": {
  "kernelspec": {
   "display_name": "Python 3 (ipykernel)",
   "language": "python",
   "name": "python3"
  },
  "language_info": {
   "codemirror_mode": {
    "name": "ipython",
    "version": 3
   },
   "file_extension": ".py",
   "mimetype": "text/x-python",
   "name": "python",
   "nbconvert_exporter": "python",
   "pygments_lexer": "ipython3",
   "version": "3.10.13"
  }
 },
 "nbformat": 4,
 "nbformat_minor": 5
}
