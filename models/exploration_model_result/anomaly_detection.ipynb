{
 "cells": [
  {
   "cell_type": "code",
   "execution_count": null,
   "id": "3f785607-719f-441e-99dc-43bb71ce0ab1",
   "metadata": {
    "tags": []
   },
   "outputs": [],
   "source": [
    "import sys\n",
    "\n",
    "import pandas as pd\n",
    "import numpy as np\n",
    "\n",
    "sys.path.append(\"/workspace/multivariate-correlation-anomaly-detection/\")\n",
    "from utils.etl_utils import find_anomalies, mix_report_n_class_report_conf_mat\n",
    "\n",
    "pd.set_option(\"display.max_columns\", None)\n",
    "pd.set_option(\"display.max_rows\", None)"
   ]
  },
  {
   "cell_type": "code",
   "execution_count": null,
   "id": "bf19845f-044c-44ec-bd2c-af93092ae4e2",
   "metadata": {
    "tags": []
   },
   "outputs": [],
   "source": [
    "rand_class_report, rand_conf_mat = mix_report_n_class_report_conf_mat(model_name=\"ATTNONEDIMGRURESMAPCORRCLASS\", model_weights_name_list=[\"epoch_649-20240109130804\", \"epoch_1178-20240110023126\", \"epoch_1448-20240109230650\"], data_sp_mode=\"val\", dataset_name=\"random\", num_classes=5)\n",
    "above_class_report, above_conf_mat = mix_report_n_class_report_conf_mat(model_name=\"ATTNONEDIMGRURESMAPCORRCLASS\", model_weights_name_list=[\"epoch_1151-20240110080037\", \"epoch_1043-20240110142418\", \"epoch_1330-20240110024812\"], data_sp_mode=\"val\", dataset_name=\"above\")\n",
    "below_class_report, below_conf_mat = mix_report_n_class_report_conf_mat(model_name=\"ATTNONEDIMGRURESMAPCORRCLASS\", model_weights_name_list=[\"epoch_1222-20240110135256\", \"epoch_1369-20240111090436\", \"epoch_1245-20240109043855\"], data_sp_mode=\"val\", dataset_name=\"below\")\n",
    "display(rand_conf_mat)\n",
    "display(above_conf_mat)\n",
    "display(below_conf_mat)"
   ]
  },
  {
   "cell_type": "code",
   "execution_count": null,
   "id": "aafcbf30-170e-4950-90ab-eb26d3545f2b",
   "metadata": {
    "tags": []
   },
   "outputs": [],
   "source": [
    "report_df = pd.read_csv(\"./model_result_csvs/ATTNONEDIMGRURESMAPCORRCLASS/epoch_1043-20240110142418/report_preds_err_degree-test.csv\", index_col=['pair_name', 'data_category'])\n",
    "display_report_df = report_df.loc[(slice(None), [\"new_labels\", \"preds\", \"preds_err_degree\"]), :].sort_index(axis=0, level=0)\n",
    "display(display_report_df)\n",
    "\n",
    "find_anomalies(model_name=\"ATTNONEDIMGRURESMAPCORRCLASS\", model_weights_name=\"epoch_1043-20240110142418\", data_sp_mode=\"test\", save_report=True)"
   ]
  },
  {
   "cell_type": "code",
   "execution_count": null,
   "id": "698ce439-4997-419a-83b7-894447025950",
   "metadata": {
    "tags": []
   },
   "outputs": [],
   "source": [
    "from pathlib import Path\n",
    "import matplotlib.pyplot as plt\n",
    "\n",
    "def compute_mts_anomaly_percentage_per_day(model_name: str, model_weights_name_list: list, data_sp_mode: str, dataset_name: str, save_report: bool = False) -> None:\n",
    "    ###THIS_FILE_DIR = Path(__file__).resolve().parent\n",
    "    ###report_df_dir = THIS_FILE_DIR/f\"../models/exploration_model_result/model_result_csvs/{model_name}/{model_weights_name}/\"\n",
    "    preds_err_degree_df = pd.DataFrame()\n",
    "    for model_weights_name in model_weights_name_list:\n",
    "        report_df_dir = Path(f\"./model_result_csvs/{model_name}/{model_weights_name}/\")\n",
    "        report_df_path = report_df_dir/f\"report_preds_err_degree-{data_sp_mode}.csv\"\n",
    "        report_df = pd.read_csv(report_df_path, index_col=['pair_name', 'data_category'])\n",
    "        preds_err_degree_each_weight_df = report_df.loc[(slice(None), [\"preds_err_degree\"]), :]\n",
    "        anomaly_mask = preds_err_degree_each_weight_df > 0\n",
    "        preds_err_degree_each_weight_df[anomaly_mask] = 1\n",
    "        preds_err_degree_df = pd.concat([preds_err_degree_df, preds_err_degree_each_weight_df])\n",
    "    preds_err_degree_df.loc[(dataset_name, \"err_percentage\"), ::] = preds_err_degree_df.sum(axis=0)/len(preds_err_degree_df)\n",
    "    print(f\"These input model_weights_list contain {preds_err_degree_df.shape[0]-1} corr_ser\")\n",
    "    print(f\"average accuracy of all corr_ser: {1-preds_err_degree_df.loc[(dataset_name, 'err_percentage'), ::].mean()}\")\n",
    "    # display(preds_err_degree_df)\n",
    "\n",
    "    return preds_err_degree_df.loc[(dataset_name, \"err_percentage\"), ::]\n",
    "\n",
    "\n",
    "random_err_percentage = compute_mts_anomaly_percentage_per_day(model_name=\"ATTNONEDIMGRURESMAPCORRCLASS\", model_weights_name_list=[\"epoch_649-20240109130804\", \"epoch_1178-20240110023126\", \"epoch_1448-20240109230650\"], data_sp_mode=\"val\", dataset_name=\"random\")\n",
    "above_err_percentage = compute_mts_anomaly_percentage_per_day(model_name=\"ATTNONEDIMGRURESMAPCORRCLASS\", model_weights_name_list=[\"epoch_1151-20240110080037\", \"epoch_1043-20240110142418\", \"epoch_1330-20240110024812\"], data_sp_mode=\"val\", dataset_name=\"above\")\n",
    "below_err_percentage = compute_mts_anomaly_percentage_per_day(model_name=\"ATTNONEDIMGRURESMAPCORRCLASS\", model_weights_name_list=[\"epoch_1222-20240110135256\", \"epoch_1369-20240111090436\", \"epoch_1245-20240109043855\"], data_sp_mode=\"val\", dataset_name=\"below\")\n",
    "\n",
    "all_dataset_preds_err_percentage = pd.concat([random_err_percentage, above_err_percentage, below_err_percentage], axis=1)\n",
    "# all_dataset_preds_err_percentage\n",
    "\n",
    "display(all_dataset_preds_err_percentage)\n",
    "plt.figure(figsize=(24,12))\n",
    "plt.plot(random_err_percentage, label=\"random\")\n",
    "plt.plot(above_err_percentage, label=\"strong\")\n",
    "plt.plot(below_err_percentage, label=\"weak\")\n",
    "plt.xticks(rotation=60, fontsize=18)\n",
    "plt.xlabel(\"Date\", fontsize=24)\n",
    "plt.ylabel(\"Prediction error percentage\", fontsize=24)\n",
    "plt.legend(fontsize=24)\n",
    "plt.show()\n",
    "plt.close()"
   ]
  },
  {
   "cell_type": "code",
   "execution_count": null,
   "id": "00cc4c49-533d-4f16-b956-ad32f2949da1",
   "metadata": {
    "tags": []
   },
   "outputs": [],
   "source": []
  },
  {
   "cell_type": "code",
   "execution_count": null,
   "id": "28ab5e9e-7af2-4ebb-97ac-ca1b6881a425",
   "metadata": {},
   "outputs": [],
   "source": []
  }
 ],
 "metadata": {
  "kernelspec": {
   "display_name": "Python 3 (ipykernel)",
   "language": "python",
   "name": "python3"
  },
  "language_info": {
   "codemirror_mode": {
    "name": "ipython",
    "version": 3
   },
   "file_extension": ".py",
   "mimetype": "text/x-python",
   "name": "python",
   "nbconvert_exporter": "python",
   "pygments_lexer": "ipython3",
   "version": "3.10.13"
  }
 },
 "nbformat": 4,
 "nbformat_minor": 5
}
