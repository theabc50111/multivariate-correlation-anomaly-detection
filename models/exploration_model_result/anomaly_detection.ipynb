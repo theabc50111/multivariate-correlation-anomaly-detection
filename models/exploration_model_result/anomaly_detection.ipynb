{
 "cells": [
  {
   "cell_type": "code",
   "execution_count": null,
   "id": "3f785607-719f-441e-99dc-43bb71ce0ab1",
   "metadata": {
    "tags": []
   },
   "outputs": [],
   "source": [
    "import sys\n",
    "\n",
    "import pandas as pd\n",
    "import numpy as np\n",
    "import matplotlib.pyplot as plt\n",
    "\n",
    "sys.path.append(\"/workspace/multivariate-correlation-anomaly-detection/\")\n",
    "from utils.etl_utils import find_anomalies, mix_report_n_class_report_conf_mat, compute_mts_anomaly_percentage_per_day\n",
    "\n",
    "pd.set_option(\"display.max_columns\", None)\n",
    "pd.set_option(\"display.max_rows\", None)"
   ]
  },
  {
   "cell_type": "code",
   "execution_count": null,
   "id": "bf19845f-044c-44ec-bd2c-af93092ae4e2",
   "metadata": {
    "tags": []
   },
   "outputs": [],
   "source": [
    "gru_rand_class_report, gru_rand_conf_mat = mix_report_n_class_report_conf_mat(model_name=\"GRUCORRCLASS\", model_weights_name_list=[\"epoch_96-20240127125328\"], data_sp_mode=\"val\", dataset_name=\"random\", num_classes=5)\n",
    "gru_above_class_report, gru_above_conf_mat = mix_report_n_class_report_conf_mat(model_name=\"GRUCORRCLASS\", model_weights_name_list=[\"epoch_937-20240127124530\"], data_sp_mode=\"val\", dataset_name=\"above\", num_classes=5)\n",
    "gru_below_class_report, gru_below_conf_mat = mix_report_n_class_report_conf_mat(model_name=\"GRUCORRCLASS\", model_weights_name_list=[\"epoch_393-20240127162004\"], data_sp_mode=\"val\", dataset_name=\"below\", num_classes=5)\n",
    "gru_one_fea_rand_class_report, gru_one_fea_rand_conf_mat = mix_report_n_class_report_conf_mat(model_name=\"GRUCORRCLASSONEFEATURE\", model_weights_name_list=[\"epoch_1044-20240125112130\"], data_sp_mode=\"val\", dataset_name=\"random\", num_classes=5)\n",
    "gru_one_fea_above_class_report, gru_one_fea_above_conf_mat = mix_report_n_class_report_conf_mat(model_name=\"GRUCORRCLASSONEFEATURE\", model_weights_name_list=[\"epoch_1252-20240126043205\"], data_sp_mode=\"val\", dataset_name=\"above\", num_classes=5)\n",
    "gru_one_fea_below_class_report, gru_one_fea_below_conf_mat = mix_report_n_class_report_conf_mat(model_name=\"GRUCORRCLASSONEFEATURE\", model_weights_name_list=[\"epoch_1142-20240126122553\"], data_sp_mode=\"val\", dataset_name=\"below\", num_classes=5)\n",
    "cnn_res_gru_rand_class_report, cnn_res_gru_rand_conf_mat = mix_report_n_class_report_conf_mat(model_name=\"CNNONEDIMGRURESMAPCORRCLASS\", model_weights_name_list=[\"epoch_1486-20240107020330\", \"epoch_1159-20240107061645\", \"epoch_1297-20240106171834\"], data_sp_mode=\"val\", dataset_name=\"random\", num_classes=5)\n",
    "cnn_res_gru_above_class_report, cnn_res_gru_above_conf_mat = mix_report_n_class_report_conf_mat(model_name=\"CNNONEDIMGRURESMAPCORRCLASS\", model_weights_name_list=[\"epoch_395-20240105222755\", \"epoch_888-20240107162153\", \"epoch_1185-20240106230032\"], data_sp_mode=\"val\", dataset_name=\"above\", num_classes=5)\n",
    "cnn_res_gru_below_class_report, cnn_res_gru_bwlow_conf_mat = mix_report_n_class_report_conf_mat(model_name=\"CNNONEDIMGRURESMAPCORRCLASS\", model_weights_name_list=[\"epoch_1400-20240108094208\", \"epoch_1208-20240105225007\", \"epoch_1019-20240108072906\"], data_sp_mode=\"val\", dataset_name=\"below\", num_classes=5)\n",
    "att_res_gru_rand_class_report, att_res_gru_rand_conf_mat = mix_report_n_class_report_conf_mat(model_name=\"ATTNONEDIMGRURESMAPCORRCLASS\", model_weights_name_list=[\"epoch_649-20240109130804\", \"epoch_1178-20240110023126\", \"epoch_1448-20240109230650\"], data_sp_mode=\"val\", dataset_name=\"random\", num_classes=5)\n",
    "att_res_gru_above_class_report, att_res_gru_above_conf_mat = mix_report_n_class_report_conf_mat(model_name=\"ATTNONEDIMGRURESMAPCORRCLASS\", model_weights_name_list=[\"epoch_1151-20240110080037\", \"epoch_1043-20240110142418\", \"epoch_1330-20240110024812\"], data_sp_mode=\"val\", dataset_name=\"above\", num_classes=5)\n",
    "att_res_gru_below_class_report, att_res_gru_below_conf_mat = mix_report_n_class_report_conf_mat(model_name=\"ATTNONEDIMGRURESMAPCORRCLASS\", model_weights_name_list=[\"epoch_1222-20240110135256\", \"epoch_1369-20240111090436\", \"epoch_1245-20240109043855\"], data_sp_mode=\"val\", dataset_name=\"below\", num_classes=5)\n",
    "\n",
    "display(att_res_gru_rand_conf_mat)\n",
    "display(att_res_gru_above_conf_mat)\n",
    "display(att_res_gru_below_conf_mat)\n"
   ]
  },
  {
   "cell_type": "code",
   "execution_count": null,
   "id": "16e92ba6-a32a-4953-ae25-ce9aa945ad05",
   "metadata": {
    "tags": []
   },
   "outputs": [],
   "source": [
    "no_pca_cnn_res_gru_rand_class_report, no_pca_cnn_res_gru_rand_conf_mat = mix_report_n_class_report_conf_mat(model_name=\"CNNONEDIMGRURESMAPCORRCLASS\", model_weights_name_list=[\"epoch_1140-20240104080610\"], data_sp_mode=\"val\", dataset_name=\"random\", num_classes=5)\n",
    "no_pca_cnn_res_gru_above_class_report, no_pca_cnn_res_gru_above_conf_mat = mix_report_n_class_report_conf_mat(model_name=\"CNNONEDIMGRURESMAPCORRCLASS\", model_weights_name_list=[\"epoch_1126-20240104033446\"], data_sp_mode=\"val\", dataset_name=\"above\", num_classes=5)\n",
    "no_pca_cnn_res_gru_below_class_report, no_pca_cnn_res_gru_bwlow_conf_mat = mix_report_n_class_report_conf_mat(model_name=\"CNNONEDIMGRURESMAPCORRCLASS\", model_weights_name_list=[\"epoch_1186-20240104033118\"], data_sp_mode=\"val\", dataset_name=\"below\", num_classes=5)\n",
    "no_pca_att_res_gru_rand_class_report, no_pca_att_res_gru_rand_conf_mat = mix_report_n_class_report_conf_mat(model_name=\"ATTNONEDIMGRURESMAPCORRCLASS\", model_weights_name_list=[\"epoch_1034-20240109041910\"], data_sp_mode=\"val\", dataset_name=\"random\", num_classes=5)\n",
    "no_pca_att_res_gru_above_class_report, no_pca_att_res_gruabove_conf_mat = mix_report_n_class_report_conf_mat(model_name=\"ATTNONEDIMGRURESMAPCORRCLASS\", model_weights_name_list=[\"epoch_1299-20240109082304\"], data_sp_mode=\"val\", dataset_name=\"above\", num_classes=5)\n",
    "no_pca_att_res_gru_below_class_report, no_pca_att_res_grubelow_conf_mat = mix_report_n_class_report_conf_mat(model_name=\"ATTNONEDIMGRURESMAPCORRCLASS\", model_weights_name_list=[\"epoch_1355-20240109122323\"], data_sp_mode=\"val\", dataset_name=\"below\", num_classes=5)"
   ]
  },
  {
   "cell_type": "code",
   "execution_count": null,
   "id": "44bf4a7f-5500-4fd5-9325-e3788866063d",
   "metadata": {
    "tags": []
   },
   "outputs": [],
   "source": [
    "no_res_cnn_res_gru_rand_class_report, no_res_cnn_res_gru_rand_conf_mat = mix_report_n_class_report_conf_mat(model_name=\"CNNONEDIMGRUCORRCLASS\", model_weights_name_list=[\"epoch_1057-20240108162900\", \"epoch_759-20240108181401\", \"epoch_1468-20240108210002\"], data_sp_mode=\"val\", dataset_name=\"random\", num_classes=5)\n",
    "no_res_cnn_res_gru_above_class_report, no_res_cnn_res_gru_above_conf_mat = mix_report_n_class_report_conf_mat(model_name=\"CNNONEDIMGRUCORRCLASS\", model_weights_name_list=[\"epoch_1491-20240108172126\", \"epoch_1458-20240108181418\", \"epoch_306-20240108181754\"], data_sp_mode=\"val\", dataset_name=\"above\", num_classes=5)\n",
    "no_res_cnn_res_gru_below_class_report, no_res_cnn_res_gru_bwlow_conf_mat = mix_report_n_class_report_conf_mat(model_name=\"CNNONEDIMGRUCORRCLASS\", model_weights_name_list=[\"epoch_1171-20240108191814\", \"epoch_1279-20240108201034\",\"epoch_1220-20240108203920\"], data_sp_mode=\"val\", dataset_name=\"below\", num_classes=5)\n",
    "no_res_att_res_gru_rand_class_report, no_res_att_res_gru_rand_conf_mat = mix_report_n_class_report_conf_mat(model_name=\"ATTNONEDIMGRUCORRCLASS\", model_weights_name_list=[\"epoch_392-20240112135327\", \"epoch_871-20240112125526\", \"epoch_662-20240112123455\"], data_sp_mode=\"val\", dataset_name=\"random\", num_classes=5)\n",
    "no_res_att_res_gru_above_class_report, no_res_att_res_gruabove_conf_mat = mix_report_n_class_report_conf_mat(model_name=\"ATTNONEDIMGRUCORRCLASS\", model_weights_name_list=[\"epoch_1498-20240112133103\", \"epoch_606-20240112125828\", \"epoch_880-20240112104003\"], data_sp_mode=\"val\", dataset_name=\"above\", num_classes=5)\n",
    "no_res_att_res_gru_below_class_report, no_res_att_res_grubelow_conf_mat = mix_report_n_class_report_conf_mat(model_name=\"ATTNONEDIMGRUCORRCLASS\", model_weights_name_list=[\"epoch_304-20240112130444\", \"epoch_1108-20240112125747\", \"epoch_1030-20240112111900\"], data_sp_mode=\"val\", dataset_name=\"below\", num_classes=5)"
   ]
  },
  {
   "cell_type": "code",
   "execution_count": null,
   "id": "aafcbf30-170e-4950-90ab-eb26d3545f2b",
   "metadata": {
    "tags": []
   },
   "outputs": [],
   "source": [
    "# model_name=\"ATTNONEDIMGRURESMAPCORRCLASS\", model_weights_name_list=[\"epoch_649-20240109130804\", \"epoch_1178-20240110023126\", \"epoch_1448-20240109230650\"], data_sp_mode=\"val\", dataset_name=\"random\", num_classes=5)\n",
    "# model_name=\"ATTNONEDIMGRURESMAPCORRCLASS\", model_weights_name_list=[\"epoch_1151-20240110080037\", \"epoch_1043-20240110142418\", \"epoch_1330-20240110024812\"], data_sp_mode=\"val\", dataset_name=\"above\", num_classes=5)\n",
    "# model_name=\"ATTNONEDIMGRURESMAPCORRCLASS\", model_weights_name_list=[\"epoch_1222-20240110135256\", \"epoch_1369-20240111090436\", \"epoch_1245-20240109043855\"], data_sp_mode=\"val\", dataset_name=\"below\", num_classes=5)\n",
    "model_weights_name = \"epoch_649-20240109130804\"\n",
    "data_sp = \"test\"\n",
    "report_df = pd.read_csv(f\"./model_result_csvs/ATTNONEDIMGRURESMAPCORRCLASS/{model_weights_name}/report_preds_err_degree-{data_sp}.csv\", index_col=['pair_name', 'data_category'])\n",
    "display_report_df = report_df.loc[(slice(None), [\"new_labels\", \"preds\", \"preds_err_degree\"]), :].sort_index(axis=0, level=0)\n",
    "display(display_report_df)\n",
    "find_anomalies(model_name=\"ATTNONEDIMGRURESMAPCORRCLASS\", model_weights_name=model_weights_name, data_sp_mode=data_sp, save_report=True)"
   ]
  },
  {
   "cell_type": "code",
   "execution_count": null,
   "id": "698ce439-4997-419a-83b7-894447025950",
   "metadata": {
    "tags": []
   },
   "outputs": [],
   "source": [
    "# model_name=\"ATTNONEDIMGRURESMAPCORRCLASS\", model_weights_name_list=[\"epoch_649-20240109130804\", \"epoch_1178-20240110023126\", \"epoch_1448-20240109230650\"], data_sp_mode=\"val\", dataset_name=\"random\", num_classes=5)\n",
    "# model_name=\"ATTNONEDIMGRURESMAPCORRCLASS\", model_weights_name_list=[\"epoch_1151-20240110080037\", \"epoch_1043-20240110142418\", \"epoch_1330-20240110024812\"], data_sp_mode=\"val\", dataset_name=\"above\", num_classes=5)\n",
    "# model_name=\"ATTNONEDIMGRURESMAPCORRCLASS\", model_weights_name_list=[\"epoch_1222-20240110135256\", \"epoch_1369-20240111090436\", \"epoch_1245-20240109043855\"], data_sp_mode=\"val\", dataset_name=\"below\", num_classes=5)\n",
    "data_sp = \"test\"\n",
    "random_err_percentage = compute_mts_anomaly_percentage_per_day(model_name=\"ATTNONEDIMGRURESMAPCORRCLASS\", model_weights_name_list=[\"epoch_649-20240109130804\", \"epoch_1178-20240110023126\", \"epoch_1448-20240109230650\"], data_sp_mode=data_sp, dataset_name=\"random\")\n",
    "above_err_percentage = compute_mts_anomaly_percentage_per_day(model_name=\"ATTNONEDIMGRURESMAPCORRCLASS\", model_weights_name_list=[\"epoch_1151-20240110080037\", \"epoch_1043-20240110142418\", \"epoch_1330-20240110024812\"], data_sp_mode=data_sp, dataset_name=\"above\")\n",
    "below_err_percentage = compute_mts_anomaly_percentage_per_day(model_name=\"ATTNONEDIMGRURESMAPCORRCLASS\", model_weights_name_list=[\"epoch_1222-20240110135256\", \"epoch_1369-20240111090436\", \"epoch_1245-20240109043855\"], data_sp_mode=data_sp, dataset_name=\"below\")\n",
    "\n",
    "all_dataset_preds_err_percentage = pd.concat([random_err_percentage, above_err_percentage, below_err_percentage], axis=1)\n",
    "# all_dataset_preds_err_percentage\n",
    "\n",
    "display(all_dataset_preds_err_percentage)\n",
    "display(pd.DataFrame(all_dataset_preds_err_percentage.mean(axis=1)))\n",
    "plt.figure(figsize=(42,12))\n",
    "plt.plot(random_err_percentage, label=\"random\")\n",
    "plt.plot(above_err_percentage, label=\"strong\")\n",
    "plt.plot(below_err_percentage, label=\"weak\")\n",
    "plt.xticks(rotation=60, fontsize=18)\n",
    "plt.xlabel(\"Date\", fontsize=24)\n",
    "plt.ylabel(\"[random, strong, weak] Anomaly Score\", fontsize=24)\n",
    "plt.legend(fontsize=24)\n",
    "plt.show()\n",
    "plt.close()\n",
    "plt.figure(figsize=(42,12))\n",
    "plt.plot((random_err_percentage+above_err_percentage+below_err_percentage)/3, label=\"3 set mean\")\n",
    "plt.xticks(rotation=60, fontsize=18)\n",
    "plt.xlabel(\"Date\", fontsize=24)\n",
    "plt.ylabel(\"3 Set mean Anomaly Score\", fontsize=24)\n",
    "plt.legend(fontsize=24)\n",
    "plt.show()\n",
    "plt.close()"
   ]
  },
  {
   "cell_type": "code",
   "execution_count": null,
   "id": "28ab5e9e-7af2-4ebb-97ac-ca1b6881a425",
   "metadata": {
    "tags": []
   },
   "outputs": [],
   "source": [
    "# model_name=\"ATTNONEDIMGRURESMAPCORRCLASS\", model_weights_name_list=[\"epoch_649-20240109130804\", \"epoch_1178-20240110023126\", \"epoch_1448-20240109230650\"], data_sp_mode=\"val\", dataset_name=\"random\", num_classes=5)\n",
    "# model_name=\"ATTNONEDIMGRURESMAPCORRCLASS\", model_weights_name_list=[\"epoch_1151-20240110080037\", \"epoch_1043-20240110142418\", \"epoch_1330-20240110024812\"], data_sp_mode=\"val\", dataset_name=\"above\", num_classes=5)\n",
    "# model_name=\"ATTNONEDIMGRURESMAPCORRCLASS\", model_weights_name_list=[\"epoch_1222-20240110135256\", \"epoch_1369-20240111090436\", \"epoch_1245-20240109043855\"], data_sp_mode=\"val\", dataset_name=\"below\", num_classes=5)\n",
    "from collections import Counter\n",
    "data_sp = \"test\"\n",
    "rand_top10_anomaly_dates = random_err_percentage.sort_values(ascending=False).iloc[:10].index\n",
    "rand_model_weights_name_list = [\"epoch_649-20240109130804\", \"epoch_1178-20240110023126\", \"epoch_1448-20240109230650\"]\n",
    "above_top10_anomaly_dates = above_err_percentage.sort_values(ascending=False).iloc[:10].index\n",
    "above_model_weights_name_list = [\"epoch_1151-20240110080037\", \"epoch_1043-20240110142418\", \"epoch_1330-20240110024812\"]\n",
    "below_top10_anomaly_dates = below_err_percentage.sort_values(ascending=False).iloc[:10].index\n",
    "below_model_weights_name_list = [\"epoch_1222-20240110135256\", \"epoch_1369-20240111090436\", \"epoch_1245-20240109043855\"]\n",
    "\n",
    "def find_most_anomlay_company(model_weights_name_list: list, top_anomaly_dates: pd.Index, data_sp_mode: str, dataset_name: str):\n",
    "    mix_report_df = pd.DataFrame()\n",
    "    for model_weights_name in model_weights_name_list:\n",
    "        report_df = pd.read_csv(f\"./model_result_csvs/ATTNONEDIMGRURESMAPCORRCLASS/{model_weights_name}/report_preds_err_degree-{data_sp_mode}.csv\", index_col=['pair_name', 'data_category']).loc[(slice(None), [\"preds_err_degree\"]), :]\n",
    "        mix_report_df = pd.concat([mix_report_df, report_df], axis=0)\n",
    "    mix_report_df = mix_report_df.sort_index(axis=0, level=0)\n",
    "    for anomaly_date in top_anomaly_dates:\n",
    "        most_anomaly_mix_report_df = mix_report_df.loc[::, anomaly_date]\n",
    "        most_anomaly_remain_anomaly_mix_report_df = most_anomaly_mix_report_df.iloc[(most_anomaly_mix_report_df!=0).tolist()]\n",
    "        company_show_counter = Counter()\n",
    "        for pair in most_anomaly_remain_anomaly_mix_report_df.index.get_level_values(0):\n",
    "            company_show_counter[pair.split(\" & \")[0]] +=1\n",
    "            company_show_counter[pair.split(\" & \")[1]] +=1\n",
    "        print(f\"For {dataset_name} set, at {anomaly_date}, anomlay score:{most_anomaly_remain_anomaly_mix_report_df.shape[0]/45}, anomaly company freq:{company_show_counter}\")\n",
    "        display(most_anomaly_remain_anomaly_mix_report_df.index.get_level_values(0).to_frame())\n",
    "\n",
    "find_most_anomlay_company(model_weights_name_list=rand_model_weights_name_list, top_anomaly_dates=rand_top10_anomaly_dates, data_sp_mode=data_sp, dataset_name=\"random\")\n",
    "find_most_anomlay_company(model_weights_name_list=above_model_weights_name_list, top_anomaly_dates=above_top10_anomaly_dates, data_sp_mode=data_sp, dataset_name=\"above\")\n",
    "find_most_anomlay_company(model_weights_name_list=below_model_weights_name_list, top_anomaly_dates=below_top10_anomaly_dates, data_sp_mode=data_sp, dataset_name=\"below\")\n"
   ]
  },
  {
   "cell_type": "code",
   "execution_count": null,
   "id": "085c940d-d0b8-4764-89ca-ddf04b5663ac",
   "metadata": {},
   "outputs": [],
   "source": []
  }
 ],
 "metadata": {
  "kernelspec": {
   "display_name": "Python 3 (ipykernel)",
   "language": "python",
   "name": "python3"
  },
  "language_info": {
   "codemirror_mode": {
    "name": "ipython",
    "version": 3
   },
   "file_extension": ".py",
   "mimetype": "text/x-python",
   "name": "python",
   "nbconvert_exporter": "python",
   "pygments_lexer": "ipython3",
   "version": "3.10.13"
  }
 },
 "nbformat": 4,
 "nbformat_minor": 5
}
