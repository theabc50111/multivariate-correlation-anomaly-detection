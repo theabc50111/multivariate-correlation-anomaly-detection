{
 "cells": [
  {
   "cell_type": "code",
   "execution_count": null,
   "id": "3f785607-719f-441e-99dc-43bb71ce0ab1",
   "metadata": {
    "tags": []
   },
   "outputs": [],
   "source": [
    "import sys\n",
    "\n",
    "import pandas as pd\n",
    "import numpy as np\n",
    "import matplotlib.pyplot as plt\n",
    "\n",
    "sys.path.append(\"/workspace/multivariate-correlation-anomaly-detection/\")\n",
    "from utils.etl_utils import find_anomalies, mix_report_n_class_report_conf_mat, compute_mts_anomaly_percentage_per_day\n",
    "\n",
    "pd.set_option(\"display.max_columns\", None)\n",
    "pd.set_option(\"display.max_rows\", None)"
   ]
  },
  {
   "cell_type": "code",
   "execution_count": null,
   "id": "bf19845f-044c-44ec-bd2c-af93092ae4e2",
   "metadata": {
    "tags": []
   },
   "outputs": [],
   "source": [
    "gru_rand_class_report, gru_rand_conf_mat = mix_report_n_class_report_conf_mat(model_name=\"GRUCORRCLASS\", model_weights_name_list=[\"epoch_96-20240127125328\"], data_sp_mode=\"val\", dataset_name=\"random\", num_classes=5)\n",
    "gru_above_class_report, gru_above_conf_mat = mix_report_n_class_report_conf_mat(model_name=\"GRUCORRCLASS\", model_weights_name_list=[\"epoch_937-20240127124530\"], data_sp_mode=\"val\", dataset_name=\"above\", num_classes=5)\n",
    "gru_below_class_report, gru_below_conf_mat = mix_report_n_class_report_conf_mat(model_name=\"GRUCORRCLASS\", model_weights_name_list=[\"epoch_393-20240127162004\"], data_sp_mode=\"val\", dataset_name=\"below\", num_classes=5)\n",
    "gru_one_fea_rand_class_report, gru_one_fea_rand_conf_mat = mix_report_n_class_report_conf_mat(model_name=\"GRUCORRCLASSONEFEATURE\", model_weights_name_list=[\"epoch_1044-20240125112130\"], data_sp_mode=\"val\", dataset_name=\"random\", num_classes=5)\n",
    "gru_one_fea_above_class_report, gru_one_fea_above_conf_mat = mix_report_n_class_report_conf_mat(model_name=\"GRUCORRCLASSONEFEATURE\", model_weights_name_list=[\"epoch_1252-20240126043205\"], data_sp_mode=\"val\", dataset_name=\"above\", num_classes=5)\n",
    "gru_one_fea_below_class_report, gru_one_fea_below_conf_mat = mix_report_n_class_report_conf_mat(model_name=\"GRUCORRCLASSONEFEATURE\", model_weights_name_list=[\"epoch_1142-20240126122553\"], data_sp_mode=\"val\", dataset_name=\"below\", num_classes=5)\n",
    "cnn_res_gru_rand_class_report, cnn_res_gru_rand_conf_mat = mix_report_n_class_report_conf_mat(model_name=\"CNNONEDIMGRURESMAPCORRCLASS\", model_weights_name_list=[\"epoch_1486-20240107020330\", \"epoch_1159-20240107061645\", \"epoch_1297-20240106171834\"], data_sp_mode=\"val\", dataset_name=\"random\", num_classes=5)\n",
    "cnn_res_gru_above_class_report, cnn_res_gru_above_conf_mat = mix_report_n_class_report_conf_mat(model_name=\"CNNONEDIMGRURESMAPCORRCLASS\", model_weights_name_list=[\"epoch_395-20240105222755\", \"epoch_888-20240107162153\", \"epoch_1185-20240106230032\"], data_sp_mode=\"val\", dataset_name=\"above\", num_classes=5)\n",
    "cnn_res_gru_below_class_report, cnn_res_gru_bwlow_conf_mat = mix_report_n_class_report_conf_mat(model_name=\"CNNONEDIMGRURESMAPCORRCLASS\", model_weights_name_list=[\"epoch_1400-20240108094208\", \"epoch_1208-20240105225007\", \"epoch_1019-20240108072906\"], data_sp_mode=\"val\", dataset_name=\"below\", num_classes=5)\n",
    "att_res_gru_rand_class_report, att_res_gru_rand_conf_mat = mix_report_n_class_report_conf_mat(model_name=\"ATTNONEDIMGRURESMAPCORRCLASS\", model_weights_name_list=[\"epoch_649-20240109130804\", \"epoch_1178-20240110023126\", \"epoch_1448-20240109230650\"], data_sp_mode=\"val\", dataset_name=\"random\", num_classes=5)\n",
    "att_res_gru_above_class_report, att_res_gruabove_conf_mat = mix_report_n_class_report_conf_mat(model_name=\"ATTNONEDIMGRURESMAPCORRCLASS\", model_weights_name_list=[\"epoch_1151-20240110080037\", \"epoch_1043-20240110142418\", \"epoch_1330-20240110024812\"], data_sp_mode=\"val\", dataset_name=\"above\")\n",
    "att_res_gru_below_class_report, att_res_grubelow_conf_mat = mix_report_n_class_report_conf_mat(model_name=\"ATTNONEDIMGRURESMAPCORRCLASS\", model_weights_name_list=[\"epoch_1222-20240110135256\", \"epoch_1369-20240111090436\", \"epoch_1245-20240109043855\"], data_sp_mode=\"val\", dataset_name=\"below\")\n"
   ]
  },
  {
   "cell_type": "code",
   "execution_count": null,
   "id": "aafcbf30-170e-4950-90ab-eb26d3545f2b",
   "metadata": {
    "tags": []
   },
   "outputs": [],
   "source": [
    "report_df = pd.read_csv(\"./model_result_csvs/ATTNONEDIMGRURESMAPCORRCLASS/epoch_1043-20240110142418/report_preds_err_degree-test.csv\", index_col=['pair_name', 'data_category'])\n",
    "display_report_df = report_df.loc[(slice(None), [\"new_labels\", \"preds\", \"preds_err_degree\"]), :].sort_index(axis=0, level=0)\n",
    "display(display_report_df)\n",
    "\n",
    "find_anomalies(model_name=\"ATTNONEDIMGRURESMAPCORRCLASS\", model_weights_name=\"epoch_1043-20240110142418\", data_sp_mode=\"test\", save_report=True)"
   ]
  },
  {
   "cell_type": "code",
   "execution_count": null,
   "id": "698ce439-4997-419a-83b7-894447025950",
   "metadata": {
    "tags": []
   },
   "outputs": [],
   "source": [
    "random_err_percentage = compute_mts_anomaly_percentage_per_day(model_name=\"ATTNONEDIMGRURESMAPCORRCLASS\", model_weights_name_list=[\"epoch_1178-20240110023126\", \"epoch_1448-20240109230650\"], data_sp_mode=\"val\", dataset_name=\"random\")\n",
    "###random_err_percentage = compute_mts_anomaly_percentage_per_day(model_name=\"ATTNONEDIMGRURESMAPCORRCLASS\", model_weights_name_list=[\"epoch_649-20240109130804\", \"epoch_1178-20240110023126\", \"epoch_1448-20240109230650\"], data_sp_mode=\"val\", dataset_name=\"random\")\n",
    "above_err_percentage = compute_mts_anomaly_percentage_per_day(model_name=\"ATTNONEDIMGRURESMAPCORRCLASS\", model_weights_name_list=[\"epoch_1151-20240110080037\", \"epoch_1043-20240110142418\", \"epoch_1330-20240110024812\"], data_sp_mode=\"val\", dataset_name=\"above\")\n",
    "below_err_percentage = compute_mts_anomaly_percentage_per_day(model_name=\"ATTNONEDIMGRURESMAPCORRCLASS\", model_weights_name_list=[\"epoch_1222-20240110135256\", \"epoch_1369-20240111090436\", \"epoch_1245-20240109043855\"], data_sp_mode=\"val\", dataset_name=\"below\")\n",
    "\n",
    "all_dataset_preds_err_percentage = pd.concat([random_err_percentage, above_err_percentage, below_err_percentage], axis=1)\n",
    "# all_dataset_preds_err_percentage\n",
    "\n",
    "display(all_dataset_preds_err_percentage)\n",
    "plt.figure(figsize=(24,12))\n",
    "plt.plot(random_err_percentage, label=\"random\")\n",
    "plt.plot(above_err_percentage, label=\"strong\")\n",
    "plt.plot(below_err_percentage, label=\"weak\")\n",
    "plt.xticks(rotation=60, fontsize=18)\n",
    "plt.xlabel(\"Date\", fontsize=24)\n",
    "plt.ylabel(\"Prediction error percentage\", fontsize=24)\n",
    "plt.legend(fontsize=24)\n",
    "plt.show()\n",
    "plt.close()"
   ]
  },
  {
   "cell_type": "code",
   "execution_count": null,
   "id": "28ab5e9e-7af2-4ebb-97ac-ca1b6881a425",
   "metadata": {},
   "outputs": [],
   "source": []
  }
 ],
 "metadata": {
  "kernelspec": {
   "display_name": "Python 3 (ipykernel)",
   "language": "python",
   "name": "python3"
  },
  "language_info": {
   "codemirror_mode": {
    "name": "ipython",
    "version": 3
   },
   "file_extension": ".py",
   "mimetype": "text/x-python",
   "name": "python",
   "nbconvert_exporter": "python",
   "pygments_lexer": "ipython3",
   "version": "3.10.13"
  }
 },
 "nbformat": 4,
 "nbformat_minor": 5
}
