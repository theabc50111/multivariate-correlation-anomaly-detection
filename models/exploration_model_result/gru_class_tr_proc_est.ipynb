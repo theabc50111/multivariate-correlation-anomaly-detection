{
 "cells": [
  {
   "cell_type": "code",
   "execution_count": 1,
   "id": "7fbc7f2c-2f0c-4729-b010-970bbfedaf83",
   "metadata": {
    "execution": {
     "iopub.execute_input": "2023-10-27T13:17:10.135864Z",
     "iopub.status.busy": "2023-10-27T13:17:10.135414Z",
     "iopub.status.idle": "2023-10-27T13:17:10.153388Z",
     "shell.execute_reply": "2023-10-27T13:17:10.152420Z",
     "shell.execute_reply.started": "2023-10-27T13:17:10.135827Z"
    },
    "tags": []
   },
   "outputs": [
    {
     "name": "stdout",
     "output_type": "stream",
     "text": [
      "time: 761 µs (started: 2023-10-27 21:17:10 +08:00)\n"
     ]
    }
   ],
   "source": [
    "from pathlib import Path"
   ]
  },
  {
   "cell_type": "code",
   "execution_count": 5,
   "id": "9d7f13f7-a905-405f-b3b5-4f8302347aec",
   "metadata": {
    "execution": {
     "iopub.execute_input": "2023-10-27T13:17:42.511732Z",
     "iopub.status.busy": "2023-10-27T13:17:42.511310Z",
     "iopub.status.idle": "2023-10-27T13:17:42.531551Z",
     "shell.execute_reply": "2023-10-27T13:17:42.530744Z",
     "shell.execute_reply.started": "2023-10-27T13:17:42.511697Z"
    },
    "tags": []
   },
   "outputs": [
    {
     "data": {
      "text/plain": [
       "[PosixPath('../save_models/gru_corr_class/archive/20231027/sp500_20082012-train_train/pearson/corr_s1_w50/train_logs/epoch_104-20231027000207.json')]"
      ]
     },
     "execution_count": 5,
     "metadata": {},
     "output_type": "execute_result"
    },
    {
     "name": "stdout",
     "output_type": "stream",
     "text": [
      "time: 3.51 ms (started: 2023-10-27 21:17:42 +08:00)\n"
     ]
    }
   ],
   "source": [
    "baseline_gru_log_dir = Path(\"../save_models/gru_corr_class/archive/20231027/sp500_20082012-train_train/pearson/\")\n",
    "log_path_list1 = baseline_gru_log_dir.glob(\"./*[!deprecated][!archive][!.ipynb_checkpoints]*/train_logs/*[!.ipynb_checkpoints]*[.json]\")"
   ]
  },
  {
   "cell_type": "code",
   "execution_count": null,
   "id": "5e7fa4f8-4372-4261-a69a-c8973df01728",
   "metadata": {},
   "outputs": [],
   "source": [
    "def gru_class_tr_proc_est(log_path_list: list, condition_dict: dict, regexp_res: bool = False,  plot_pic:bool = True):\n",
    "    try:\n",
    "        df = pd.DataFrame()\n",
    "        for log_path in log_path_list:\n",
    "            with open(log_path, \"r\") as source:\n",
    "                log_dict = json.load(source)\n",
    "\n",
    "            for k in log_dict.keys():\n",
    "                locals()[k] = log_dict[k]\n",
    "\n",
    "    except Exception as e:\n",
    "        error_class = e.__class__.__name__ #⬞取得錯誤類型\n",
    "        detail = e.args[0]  #⬞取得詳細內容\n",
    "        cl, exc, tb = sys.exc_info() #⬞取得Call⬞Stack\n",
    "        last_call_stack = traceback.extract_tb(tb)[-1] #⬞取得Call⬞Stack的最後一筆資料↵\n",
    "        file_name = last_call_stack[0] #⬞取得發生的檔案名稱↵\n",
    "        line_num = last_call_stack[1] #⬞取得發生的行號↵\n",
    "        func_name = last_call_stack[2] #⬞取得發生的函數名稱\n",
    "        err_msg = \"File \\\"{}\\\", line {}, in {}: [{}] {}\".format(file_name, line_num, func_name, error_class, detail)\n",
    "        logging.error(f\"file:{log_path.parts[-1]}, path:{log_path}\")\n",
    "        logging.error(f\"===\\n{err_msg}\")\n",
    "        logging.error(f\"===\\n{traceback.extract_tb(tb)}\")\n",
    "\n",
    "    return df\n"
   ]
  }
 ],
 "metadata": {
  "kernelspec": {
   "display_name": "Python 3 (ipykernel)",
   "language": "python",
   "name": "python3"
  },
  "language_info": {
   "codemirror_mode": {
    "name": "ipython",
    "version": 3
   },
   "file_extension": ".py",
   "mimetype": "text/x-python",
   "name": "python",
   "nbconvert_exporter": "python",
   "pygments_lexer": "ipython3",
   "version": "3.10.13"
  }
 },
 "nbformat": 4,
 "nbformat_minor": 5
}
