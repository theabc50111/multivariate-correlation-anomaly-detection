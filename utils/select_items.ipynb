{
 "cells": [
  {
   "cell_type": "code",
   "execution_count": null,
   "id": "22f85403-51cb-4cef-bc56-d869a6f681fa",
   "metadata": {
    "tags": []
   },
   "outputs": [],
   "source": [
    "import sys\n",
    "\n",
    "import pandas as pd\n",
    "\n",
    "sys.path.append(\"/workspace/multivariate-correlation-anomaly-detection/\")\n",
    "from utils.assorted_utils import load_multiple_data, load_dirs\n",
    "from utils.select_items_utils import gen_random_items, gen_corr_prop_filtered_items, gen_pca_cluster_filtered_items_each_cluster\n",
    "from utils.cluster_utils import (calc_pca, obs_various_n_clusters_hrchy_cluster)\n",
    "from utils.log_utils import Log\n",
    "\n",
    "JPY_LOGGER = Log(df_max_rows=55).init_logger(logger_name=\"ywt_jupyter\")"
   ]
  },
  {
   "cell_type": "markdown",
   "id": "9b4084c5-cfd1-4a07-b432-c51ddec0df38",
   "metadata": {
    "tags": []
   },
   "source": [
    "# Prepare data"
   ]
  },
  {
   "cell_type": "markdown",
   "id": "fef5cebb-06ab-4a8c-b020-6bb8be200126",
   "metadata": {
    "tags": []
   },
   "source": [
    "## Load Data"
   ]
  },
  {
   "cell_type": "code",
   "execution_count": null,
   "id": "ebe6dcae-4482-499c-ab1f-ef67310f0a8b",
   "metadata": {
    "tags": []
   },
   "outputs": [],
   "source": [
    "data_implement = \"SP500_20112015\"  # watch options by printing /config/data_config.yaml/[\"DATASETS\"].keys()\n",
    "# etl set setting\n",
    "retrieve_items_setting = \"-train_all\"  # -train_train|-train_all\n",
    "# set correlation type\n",
    "corr_type = \"pearson\"  # \"pearson\" | \"cross_corr\"\n",
    "# set target_df bins\n",
    "target_df_bins = \"bins_-10_-03_03_10\"\n",
    "# set CORR_WINDOW and CORR_STRIDE length\n",
    "w_l=50 ; s_l = 1\n",
    "# Decide how to calculate corr_ser\n",
    "corr_ser_clac_method = \"corr_ser_calc_regular\"  # corr_ser_calc_regular|corr_ser_calc_abs"
   ]
  },
  {
   "cell_type": "code",
   "execution_count": null,
   "id": "cc14d483-bfc6-4227-af95-031e392814b1",
   "metadata": {
    "tags": []
   },
   "outputs": [],
   "source": [
    "pipeline_corr_data_dir, corr_dir, target_dir, corr_property_dir, cliques_dir = load_dirs(data_implement=data_implement,\n",
    "                                                                                         retrieve_items_setting=retrieve_items_setting,\n",
    "                                                                                         corr_type=corr_type, target_df_bins=target_df_bins,\n",
    "                                                                                         w_l=w_l, s_l=s_l,\n",
    "                                                                                         corr_ser_clac_method=corr_ser_clac_method)\n",
    "dataset_df, corr_df, target_df, corr_property_df = load_multiple_data(data_implement=data_implement,\n",
    "                                                                      retrieve_items_setting=retrieve_items_setting,\n",
    "                                                                      corr_type=corr_type, target_df_bins=target_df_bins,\n",
    "                                                                      w_l=w_l, s_l=s_l,\n",
    "                                                                      corr_ser_clac_method=corr_ser_clac_method)\n",
    "display(dataset_df)\n",
    "display(corr_df)\n",
    "display(target_df)\n",
    "display(corr_property_df)"
   ]
  },
  {
   "cell_type": "markdown",
   "id": "8264546f-4577-4e3e-ae5e-1b6cedd7fd78",
   "metadata": {
    "tags": []
   },
   "source": [
    "# Random pick trainset"
   ]
  },
  {
   "cell_type": "code",
   "execution_count": null,
   "id": "adc6b22b-642d-4268-b6d4-03841025152b",
   "metadata": {
    "tags": []
   },
   "outputs": [],
   "source": [
    "num_items = 100\n",
    "\n",
    "JPY_LOGGER.info(\"=\"*80)\n",
    "JPY_LOGGER.info(f\"num_items: {num_items}\")\n",
    "JPY_LOGGER.info(\"=\"*80)"
   ]
  },
  {
   "cell_type": "code",
   "execution_count": null,
   "id": "82ce1a98-9e8e-41ea-a39c-3c0bb406f0da",
   "metadata": {
    "tags": []
   },
   "outputs": [],
   "source": [
    "final_pick_items = gen_random_items(all_items=dataset_df.columns.tolist(), ret_items_len=num_items, verbose=0)\n",
    "\n",
    "JPY_LOGGER.info(\"!!!!!!!!!!!!!!!!!!!!!!!!!!!!!!!!!!!!!!!!! final_pick_items !!!!!!!!!!!!!!!!!!!!!!!!!!!!!!!!!!!!!!!!!\")\n",
    "JPY_LOGGER.info(f\"\\n{final_pick_items}\")\n",
    "JPY_LOGGER.info(\"!\"*100)"
   ]
  },
  {
   "cell_type": "markdown",
   "id": "7121521a-0b39-4b30-b807-536e8e8f3ce6",
   "metadata": {
    "tags": []
   },
   "source": [
    "# Correlation Series Property filtered trainset"
   ]
  },
  {
   "cell_type": "code",
   "execution_count": null,
   "id": "70de7bf4-7349-40a3-811c-a6efd12026ec",
   "metadata": {
    "tags": []
   },
   "outputs": [],
   "source": [
    "selected_corr_prop = \"corr_mean\"  # corr_mean|corr_std\n",
    "selected_corr_prop_cond = \"negative_corr_prop\"\n",
    "tmp_clique_dir = cliques_dir/f\"{selected_corr_prop}/{selected_corr_prop_cond}\"\n",
    "fill_diag_val = 1\n",
    "ret_items_len = 4\n",
    "can_check_filtering_proc = True\n",
    "corr_ser_std = corr_property_df.loc[::, \"corr_ser_std\"]\n",
    "corr_ser_mean = corr_property_df.loc[::, \"corr_ser_mean\"]\n",
    "selected_corr_prop_ser = corr_ser_mean if selected_corr_prop == \"corr_mean\" else corr_ser_std\n",
    "item_names = tuple(dataset_df.columns)"
   ]
  },
  {
   "cell_type": "code",
   "execution_count": null,
   "id": "46d69ffe-7613-46b8-8598-1bec0fd44f46",
   "metadata": {
    "tags": []
   },
   "outputs": [],
   "source": [
    "final_pick_items = gen_corr_prop_filtered_items(item_pairs_ser=selected_corr_prop_ser, corr_prop_cond=selected_corr_prop_cond,\n",
    "                                                item_names=item_names, fill_diag_val=fill_diag_val, ret_items_len=ret_items_len,\n",
    "                                                cliques_dir=tmp_clique_dir, can_check_filtering_proc=can_check_filtering_proc)\n",
    "\n",
    "JPY_LOGGER.info(\"!!!!!!!!!!!!!!!!!!!!!!!!!!!!!!!!!!!!!!!!! final_pick_items !!!!!!!!!!!!!!!!!!!!!!!!!!!!!!!!!!!!!!!!!\")\n",
    "JPY_LOGGER.info(f\"{final_pick_items}\")\n",
    "JPY_LOGGER.info(\"!\"*100)"
   ]
  },
  {
   "cell_type": "markdown",
   "id": "602fc61e-f00f-407e-9847-699bfeb37ee3",
   "metadata": {
    "tags": []
   },
   "source": [
    "# PCA_items and Clustering_items filtered trainset"
   ]
  },
  {
   "cell_type": "markdown",
   "id": "e4cab0a9-3cdf-46c6-b8bf-76b449b8a7b9",
   "metadata": {},
   "source": [
    "## Observe hyper parameters of PCA & Cluster model"
   ]
  },
  {
   "cell_type": "markdown",
   "id": "f0b156af-de37-4e77-92eb-469f52c168bd",
   "metadata": {
    "tags": []
   },
   "source": [
    "### First, observe PCA"
   ]
  },
  {
   "cell_type": "code",
   "execution_count": null,
   "id": "148c271a-b3b3-4522-b6cc-37f9ae89e671",
   "metadata": {
    "tags": []
   },
   "outputs": [],
   "source": [
    "obs_pca_explanation_variance_thres = 1e-1\n",
    "obs_pca_input_data = dataset_df.T\n",
    "obs_pca_input_data_samples = obs_pca_input_data.index\n",
    "obs_pca_input_data_featues = obs_pca_input_data.columns\n",
    "\n",
    "JPY_LOGGER.info(\"=\"*80)\n",
    "JPY_LOGGER.info(f\"pca_explanation_variance_thres:{obs_pca_explanation_variance_thres}\")\n",
    "JPY_LOGGER.info(f\"pca_input_data.shape:{obs_pca_input_data.shape}, len(pca_input_data_samples):{len(obs_pca_input_data_samples)}, len(pca_input_data_featues):{len(obs_pca_input_data_featues)}\")\n",
    "JPY_LOGGER.info(f\"pca_input_data_samples[:3]:{obs_pca_input_data_samples[:3]}\")\n",
    "JPY_LOGGER.info(f\"pca_input_data_featues[:3]:{obs_pca_input_data_featues[:3]}\")\n",
    "JPY_LOGGER.info(\"=\"*80)"
   ]
  },
  {
   "cell_type": "code",
   "execution_count": null,
   "id": "a9b5953d-52e5-4a7d-9d90-6c09e789aefd",
   "metadata": {
    "tags": []
   },
   "outputs": [],
   "source": [
    "obs_reducted_data_df, obs_pri_components = calc_pca(data=obs_pca_input_data, n_samples=len(obs_pca_input_data_samples),\n",
    "                                                    variance_thres=obs_pca_explanation_variance_thres, verbose=1)"
   ]
  },
  {
   "cell_type": "markdown",
   "id": "f3b8a337-8df2-4588-911c-5ed786b426cd",
   "metadata": {
    "execution": {
     "iopub.execute_input": "2023-11-11T17:47:03.267435Z",
     "iopub.status.busy": "2023-11-11T17:47:03.266946Z",
     "iopub.status.idle": "2023-11-11T17:47:03.293549Z",
     "shell.execute_reply": "2023-11-11T17:47:03.293085Z",
     "shell.execute_reply.started": "2023-11-11T17:47:03.267399Z"
    },
    "tags": []
   },
   "source": [
    "### Seond, Observe clustering hyper-parameters"
   ]
  },
  {
   "cell_type": "markdown",
   "id": "9969764e-cf79-4b95-ab03-ac5e19e079a5",
   "metadata": {
    "tags": []
   },
   "source": [
    "#### Overview large range of hyper params of Clustering"
   ]
  },
  {
   "cell_type": "code",
   "execution_count": null,
   "id": "5037a2cf-88b4-49eb-8e5a-9adde82af655",
   "metadata": {
    "tags": []
   },
   "outputs": [],
   "source": [
    "obs_grid_n_clusters = range(2, 51)\n",
    "obs_linkage = \"complete\"\n",
    "obs_cluster_metric = \"euclidean\"\n",
    "obs_cluster_conditions = {\"n_samples\": len(obs_pca_input_data_samples), \"n_features\": len(obs_pri_components), \"n_clusters_list\": obs_grid_n_clusters, \"linkage\": obs_linkage, \"cluster_metric\": obs_cluster_metric}\n",
    "\n",
    "JPY_LOGGER.info(\"=\"*80)\n",
    "JPY_LOGGER.info(f\"cluster_conditions: {obs_cluster_conditions}\")\n",
    "JPY_LOGGER.info(\"=\"*80)\n",
    "\n",
    "obs_various_n_clusters_hrchy_cluster(data=obs_reducted_data_df, cluster_conds=obs_cluster_conditions, can_plot_each_cluster_info=False)"
   ]
  },
  {
   "cell_type": "markdown",
   "id": "c0633c29-ae2d-4af0-b513-d013dd846a3e",
   "metadata": {
    "tags": []
   },
   "source": [
    "#### Reduce range of hyper params of Clustering, and observe again"
   ]
  },
  {
   "cell_type": "code",
   "execution_count": null,
   "id": "2abd03e7-39b2-4f19-a923-cfe7a896b299",
   "metadata": {
    "tags": []
   },
   "outputs": [],
   "source": [
    "obs_selected_n_clusters_list = [12, 35]\n",
    "obs_linkage = \"complete\"\n",
    "obs_cluster_metric = \"euclidean\"\n",
    "obs_cluster_conditions = {\"n_samples\": len(obs_pca_input_data_samples), \"n_features\": len(obs_pri_components), \"n_clusters_list\": obs_selected_n_clusters_list, \"linkage\": obs_linkage, \"cluster_metric\": obs_cluster_metric}\n",
    "\n",
    "JPY_LOGGER.info(\"=\"*80)\n",
    "JPY_LOGGER.info(f\"cluster_conditions: {obs_cluster_conditions}\")\n",
    "JPY_LOGGER.info(\"=\"*80)\n",
    "\n",
    "obs_various_n_clusters_hrchy_cluster(data=obs_reducted_data_df, cluster_conds=obs_cluster_conditions, can_plot_each_cluster_info=True)"
   ]
  },
  {
   "cell_type": "markdown",
   "id": "31b4907a-66d5-4fd5-acae-763f4be28e53",
   "metadata": {},
   "source": [
    "## Select items"
   ]
  },
  {
   "cell_type": "code",
   "execution_count": null,
   "id": "72509f10-0416-4509-9cfd-15e8df01c66a",
   "metadata": {
    "tags": []
   },
   "outputs": [],
   "source": [
    "pca_input_data = dataset_df.T\n",
    "pca_input_data_samples = pca_input_data.index\n",
    "pca_input_data_featues = pca_input_data.columns\n",
    "pca_kwargs = {\"n_samples\":len(pca_input_data_samples), \"pca_explanation_variance_thres\":  1e-1, }\n",
    "linkage = \"complete\"\n",
    "cluster_metric = \"euclidean\"\n",
    "selected_n_clusters = 35\n",
    "cluster_kwargs = {\"n_clusters\": selected_n_clusters, \"linkage\": linkage, \"cluster_metric\": cluster_metric}\n",
    "assert pca_input_data.equals(obs_pca_input_data)\n",
    "\n",
    "JPY_LOGGER.info(\"=\"*80)\n",
    "JPY_LOGGER.info(f\"pca_input_data.shape:{pca_input_data.shape}, len(pca_input_data_samples):{len(pca_input_data_samples)}, len(pca_input_data_featues):{len(pca_input_data_featues)}\")\n",
    "JPY_LOGGER.info(f\"pca_input_data_samples[:3]:{pca_input_data_samples[:3]}\")\n",
    "JPY_LOGGER.info(f\"pca_input_data_featues[:3]:{pca_input_data_featues[:3]}\")\n",
    "JPY_LOGGER.info(f\"pca_kwargs:{pca_kwargs}\")\n",
    "JPY_LOGGER.info(f\"cluster_kwargs:{cluster_kwargs}\")\n",
    "JPY_LOGGER.info(\"=\"*80)"
   ]
  },
  {
   "cell_type": "code",
   "execution_count": null,
   "id": "da7ee4b1-3b83-40bf-b34e-3f9553e71c99",
   "metadata": {
    "tags": []
   },
   "outputs": [],
   "source": [
    "final_pick_items = gen_pca_cluster_filtered_items_each_cluster(pca_input_data=pca_input_data, pca_kwargs=pca_kwargs, cluster_kwargs=cluster_kwargs)\n",
    "\n",
    "JPY_LOGGER.info(\"!!!!!!!!!!!!!!!!!!!!!!!!!!!!!!!!!!!!!!!!! final_pick_items !!!!!!!!!!!!!!!!!!!!!!!!!!!!!!!!!!!!!!!!!\")\n",
    "JPY_LOGGER.info(f\"{final_pick_items}\")\n",
    "JPY_LOGGER.info(\"!\"*100)"
   ]
  },
  {
   "cell_type": "markdown",
   "id": "06c4976b-4f75-4d1d-965b-c1d2000674b7",
   "metadata": {},
   "source": [
    "# ..."
   ]
  },
  {
   "cell_type": "code",
   "execution_count": null,
   "id": "4cee94b9-ecf9-4162-9b88-ba34ee2a6b53",
   "metadata": {},
   "outputs": [],
   "source": []
  }
 ],
 "metadata": {
  "kernelspec": {
   "display_name": "Python 3 (ipykernel)",
   "language": "python",
   "name": "python3"
  },
  "language_info": {
   "codemirror_mode": {
    "name": "ipython",
    "version": 3
   },
   "file_extension": ".py",
   "mimetype": "text/x-python",
   "name": "python",
   "nbconvert_exporter": "python",
   "pygments_lexer": "ipython3",
   "version": "3.10.13"
  }
 },
 "nbformat": 4,
 "nbformat_minor": 5
}
