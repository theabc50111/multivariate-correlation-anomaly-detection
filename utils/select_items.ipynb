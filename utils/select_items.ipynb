{
 "cells": [
  {
   "cell_type": "code",
   "execution_count": null,
   "id": "22f85403-51cb-4cef-bc56-d869a6f681fa",
   "metadata": {
    "tags": []
   },
   "outputs": [],
   "source": [
    "import logging\n",
    "import random\n",
    "from pprint import pformat\n",
    "from pathlib import Path\n",
    "import sys\n",
    "\n",
    "import pandas as pd\n",
    "import dynamic_yaml\n",
    "import yaml\n",
    "\n",
    "sys.path.append(\"/workspace/correlation-change-predict/utils\")\n",
    "from utils import calc_corr_ser_property\n",
    "\n",
    "with open('../config/data_config.yaml') as f:\n",
    "    data = dynamic_yaml.load(f)\n",
    "    data_cfg = yaml.full_load(dynamic_yaml.dump(data))\n",
    "\n",
    "logging.basicConfig(level=logging.INFO)"
   ]
  },
  {
   "cell_type": "markdown",
   "id": "9b4084c5-cfd1-4a07-b432-c51ddec0df38",
   "metadata": {},
   "source": [
    "# Prepare data"
   ]
  },
  {
   "cell_type": "markdown",
   "id": "7e0b5cff-65a7-47c1-944e-c49024b609a9",
   "metadata": {},
   "source": [
    "## selected item setting"
   ]
  },
  {
   "cell_type": "code",
   "execution_count": null,
   "id": "382772a6-d870-41e0-a0e6-9681bbce9b28",
   "metadata": {},
   "outputs": [],
   "source": [
    "data_implement = \"SP500_20112015\"  # watch options by printing /config/data_config.yaml/[\"DATASETS\"].keys()\n",
    "# etl set setting\n",
    "retrive_items_setting = \"-train_all\"  # -train_train|-train_all\n",
    "# set correlation type\n",
    "corr_type = \"pearson\"  # \"pearson\" | \"cross_corr\"\n",
    "# set CORR_WINDOW and CORR_STRIDE length\n",
    "w_l=50 ; s_l = 1\n",
    "# Decide how to calculate corr_ser\n",
    "corr_ser_clac_method = \"corr_ser_calc_regular\"  # corr_ser_calc_regular|corr_ser_calc_abs"
   ]
  },
  {
   "cell_type": "markdown",
   "id": "fef5cebb-06ab-4a8c-b020-6bb8be200126",
   "metadata": {
    "tags": []
   },
   "source": [
    "## Load Data"
   ]
  },
  {
   "cell_type": "code",
   "execution_count": null,
   "id": "db7d5a27-c6c8-44f9-b651-a1b47a125120",
   "metadata": {},
   "outputs": [],
   "source": [
    "all_set = data_cfg[\"DATASETS\"][data_implement]['ALL_SET']  # all items\n",
    "train_set = data_cfg[\"DATASETS\"][data_implement]['TRAIN_SET']\n",
    "items_implement = train_set if retrive_items_setting == \"-train_train\" else all_set\n",
    "output_file_name = data_cfg[\"DATASETS\"][data_implement]['OUTPUT_FILE_NAME_BASIS'] + retrive_items_setting\n",
    "pipeline_corr_data_dir = Path(data_cfg[\"DIRS\"][\"PIPELINE_DATA_DIR\"])/f\"{output_file_name}/{corr_type}\""
   ]
  },
  {
   "cell_type": "code",
   "execution_count": null,
   "id": "7a40feb5-87a1-4c42-a306-fd19eb250a06",
   "metadata": {
    "tags": []
   },
   "outputs": [],
   "source": [
    "dataset_df = pd.read_csv(data_cfg[\"DATASETS\"][data_implement]['FILE_PATH'])\n",
    "dataset_df = dataset_df.set_index('Date')\n",
    "dataset_df = dataset_df.loc[::, items_implement]\n",
    "corr_df = pd.read_csv(pipeline_corr_data_dir/f\"corr_data/corr_s{s_l}_w{w_l}.csv\", index_col=[\"item_pair\"])\n",
    "target_df = pd.read_csv(pipeline_corr_data_dir/f\"custom_discretize_corr_data/bins_-10_-03_03_10/corr_s{s_l}_w{w_l}.csv\", index_col=[\"item_pair\"])\n",
    "logging.info(f\"len(items_implement): {len(items_implement)} and len(all_set): {len(all_set if all_set else [])} and len(train_set): {len(train_set if train_set else [])}\")\n",
    "logging.info(f\"dataset_df.shape:{dataset_df.shape}, corr_df.shape:{corr_df.shape}, target_df.shape:{target_df.shape}\")\n",
    "display(dataset_df.head())\n",
    "display(corr_df.head())\n",
    "display(target_df.head())"
   ]
  },
  {
   "cell_type": "markdown",
   "id": "8264546f-4577-4e3e-ae5e-1b6cedd7fd78",
   "metadata": {
    "tags": []
   },
   "source": [
    "# Random pick trainset"
   ]
  },
  {
   "cell_type": "code",
   "execution_count": null,
   "id": "43c17e12-e5ae-4bdd-a2f3-009e6309e3e5",
   "metadata": {
    "tags": []
   },
   "outputs": [],
   "source": [
    "def gen_random_trainset(all_items: list, train_set_len: int = 100, verbose: int = 0):\n",
    "    \"\"\"\n",
    "    Randon pick items for trainset # Not always necessary to operate\n",
    "    \"\"\"\n",
    "    random.seed(10)\n",
    "    train_set = sorted(random.sample(all_items, train_set_len))\n",
    "\n",
    "    if verbose==1:\n",
    "        logging.info(f\"len(train_set):{len(train_set)}\")\n",
    "        pp = pprint.PrettyPrinter(width=500, compact=True)\n",
    "        pp.pprint(train_set)\n",
    "\n",
    "    return train_set\n",
    "\n",
    "print(gen_random_trainset(items_implement, 100))"
   ]
  },
  {
   "cell_type": "markdown",
   "id": "7121521a-0b39-4b30-b807-536e8e8f3ce6",
   "metadata": {},
   "source": [
    "# Correlation Series Property condition filtered trainset"
   ]
  },
  {
   "cell_type": "code",
   "execution_count": null,
   "id": "3c5258bf-0e07-42a0-beaa-eb36cd24fd18",
   "metadata": {},
   "outputs": [],
   "source": []
  },
  {
   "cell_type": "markdown",
   "id": "06c4976b-4f75-4d1d-965b-c1d2000674b7",
   "metadata": {},
   "source": [
    "# ..."
   ]
  },
  {
   "cell_type": "code",
   "execution_count": null,
   "id": "4cee94b9-ecf9-4162-9b88-ba34ee2a6b53",
   "metadata": {},
   "outputs": [],
   "source": []
  }
 ],
 "metadata": {
  "kernelspec": {
   "display_name": "Python 3 (ipykernel)",
   "language": "python",
   "name": "python3"
  },
  "language_info": {
   "codemirror_mode": {
    "name": "ipython",
    "version": 3
   },
   "file_extension": ".py",
   "mimetype": "text/x-python",
   "name": "python",
   "nbconvert_exporter": "python",
   "pygments_lexer": "ipython3",
   "version": "3.10.13"
  }
 },
 "nbformat": 4,
 "nbformat_minor": 5
}
