{
 "cells": [
  {
   "cell_type": "code",
   "execution_count": null,
   "id": "22f85403-51cb-4cef-bc56-d869a6f681fa",
   "metadata": {
    "tags": []
   },
   "outputs": [],
   "source": [
    "import logging\n",
    "import random\n",
    "import sys\n",
    "from itertools import combinations\n",
    "from pprint import pformat\n",
    "from pathlib import Path\n",
    "\n",
    "import pandas as pd\n",
    "import dynamic_yaml\n",
    "import yaml\n",
    "\n",
    "sys.path.append(\"/workspace/correlation-change-predict/utils\")\n",
    "from utils import load_multiple_data, load_dirs\n",
    "from cluster_utils import convert_pairs_data_to_proximity_mat, filter_proximity_mat\n",
    "\n",
    "class UtilsFilter(logging.Filter):\n",
    "    def filter(self, record):\n",
    "        if record.name in ['utils', 'cluster_utils']:\n",
    "            return False\n",
    "        return True\n",
    "\n",
    "logger_console = logging.StreamHandler()\n",
    "logger_formatter = logging.Formatter('%(levelname)-8s [%(name)s.%(funcName)s] %(message)s')\n",
    "logger_console.setFormatter(logger_formatter)\n",
    "jpy_logger = logging.getLogger(\"ywt_jupyter\")\n",
    "jpy_logger.addFilter(UtilsFilter())\n",
    "jpy_logger.addHandler(logger_console)\n",
    "jpy_logger.setLevel(logging.INFO)"
   ]
  },
  {
   "cell_type": "markdown",
   "id": "9b4084c5-cfd1-4a07-b432-c51ddec0df38",
   "metadata": {},
   "source": [
    "# Prepare data"
   ]
  },
  {
   "cell_type": "markdown",
   "id": "fef5cebb-06ab-4a8c-b020-6bb8be200126",
   "metadata": {
    "jp-MarkdownHeadingCollapsed": true,
    "tags": []
   },
   "source": [
    "## Load Data"
   ]
  },
  {
   "cell_type": "code",
   "execution_count": null,
   "id": "ebe6dcae-4482-499c-ab1f-ef67310f0a8b",
   "metadata": {
    "tags": []
   },
   "outputs": [],
   "source": [
    "data_implement = \"SP500_20112015\"  # watch options by printing /config/data_config.yaml/[\"DATASETS\"].keys()\n",
    "# etl set setting\n",
    "retrieve_items_setting = \"-train_all\"  # -train_train|-train_all\n",
    "# set correlation type\n",
    "corr_type = \"pearson\"  # \"pearson\" | \"cross_corr\"\n",
    "# set target_df bins\n",
    "target_df_bins = \"bins_-10_-03_03_10\"\n",
    "# set CORR_WINDOW and CORR_STRIDE length\n",
    "w_l=50 ; s_l = 1\n",
    "# Decide how to calculate corr_ser\n",
    "corr_ser_clac_method = \"corr_ser_calc_regular\"  # corr_ser_calc_regular|corr_ser_calc_abs"
   ]
  },
  {
   "cell_type": "code",
   "execution_count": null,
   "id": "cc14d483-bfc6-4227-af95-031e392814b1",
   "metadata": {
    "tags": []
   },
   "outputs": [],
   "source": [
    "pipeline_corr_data_dir, corr_dir, target_dir, corr_property_dir, cliques_dir = load_dirs(data_implement=data_implement,\n",
    "                                                                                         retrieve_items_setting=retrieve_items_setting,\n",
    "                                                                                         corr_type=corr_type, target_df_bins=target_df_bins,\n",
    "                                                                                         w_l=w_l, s_l=s_l,\n",
    "                                                                                         corr_ser_clac_method=corr_ser_clac_method)\n",
    "dataset_df, corr_df, target_df, corr_property_df = load_multiple_data(data_implement=data_implement,\n",
    "                                                                      retrieve_items_setting=retrieve_items_setting,\n",
    "                                                                      corr_type=corr_type, target_df_bins=target_df_bins,\n",
    "                                                                      w_l=w_l, s_l=s_l,\n",
    "                                                                      corr_ser_clac_method=corr_ser_clac_method)\n",
    "display(dataset_df)\n",
    "display(corr_df)\n",
    "display(target_df)\n",
    "display(corr_property_df)"
   ]
  },
  {
   "cell_type": "markdown",
   "id": "8264546f-4577-4e3e-ae5e-1b6cedd7fd78",
   "metadata": {
    "jp-MarkdownHeadingCollapsed": true,
    "tags": []
   },
   "source": [
    "# Random pick trainset"
   ]
  },
  {
   "cell_type": "code",
   "execution_count": null,
   "id": "b3d3903a-0d6f-4857-a66f-c581b3920c4d",
   "metadata": {},
   "outputs": [],
   "source": [
    "num_items = 100"
   ]
  },
  {
   "cell_type": "code",
   "execution_count": null,
   "id": "43c17e12-e5ae-4bdd-a2f3-009e6309e3e5",
   "metadata": {
    "tags": []
   },
   "outputs": [],
   "source": [
    "def gen_random_trainset(all_items: list, train_set_len: int = 100, verbose: int = 0):\n",
    "    \"\"\"\n",
    "    Randon pick items for trainset # Not always necessary to operate\n",
    "    \"\"\"\n",
    "    random.seed(10)\n",
    "    train_set = sorted(random.sample(all_items, train_set_len))\n",
    "\n",
    "    if verbose==1:\n",
    "        logging.info(f\"len(train_set):{len(train_set)}\")\n",
    "        pp = pprint.PrettyPrinter(width=500, compact=True)\n",
    "        pp.pprint(train_set)\n",
    "\n",
    "    return train_set\n",
    "\n",
    "final_pick_items = gen_random_trainset(dataset_df.columns.tolist(), num_items)\n",
    "jpy_logger.info(\"!!!!!!!!!!!!!!!!!!!!!!!!!!!!!!!!!!!!!!!!! final_pick_items !!!!!!!!!!!!!!!!!!!!!!!!!!!!!!!!!!!!!!!!!\")\n",
    "jpy_logger.info(f\"\\n{final_pick_items}\")\n",
    "jpy_logger.info(\"!\"*100)"
   ]
  },
  {
   "cell_type": "markdown",
   "id": "7121521a-0b39-4b30-b807-536e8e8f3ce6",
   "metadata": {
    "jp-MarkdownHeadingCollapsed": true,
    "tags": []
   },
   "source": [
    "# Correlation Series Property filtered trainset"
   ]
  },
  {
   "cell_type": "code",
   "execution_count": null,
   "id": "6dae6add-0a37-4910-8233-f881d99f4654",
   "metadata": {
    "tags": []
   },
   "outputs": [],
   "source": [
    "selected_corr_prop = \"corr_mean\"  # corr_mean|corr_std\n",
    "selected_corr_prop_cond = \"negative_corr_prop\"\n",
    "tmp_clique_dir = cliques_dir/f\"{selected_corr_prop}/{selected_corr_prop_cond}\"\n",
    "fill_diag_val = 1\n",
    "can_check_filtering_proc = True"
   ]
  },
  {
   "cell_type": "code",
   "execution_count": null,
   "id": "df71c920-5961-49c5-bb9d-c5d51dc50964",
   "metadata": {
    "tags": []
   },
   "outputs": [],
   "source": [
    "def gen_corr_prop_filtered_trainset(item_pairs_ser: pd.Series, corr_prop_cond: str, item_names: tuple, fill_diag_val: int,\n",
    "                                    cliques_dir: Path, can_check_filtering_proc: bool):\n",
    "    corr_prop_proximity_df = convert_pairs_data_to_proximity_mat(item_pairs_ser=item_pairs_ser, item_names=item_names, fill_diag_val=fill_diag_val)\n",
    "    corr_prop_mask_settings = {\"positive_corr_prop\": (corr_prop_proximity_df > 0),\n",
    "                               \"negative_corr_prop\": (corr_prop_proximity_df < 0)}\n",
    "    corr_prop_mask = corr_prop_mask_settings[corr_prop_cond]\n",
    "    corr_prop_filtered_proximity_df, _ = filter_proximity_mat(proximity_mat=corr_prop_proximity_df.copy(), filter_mask=corr_prop_mask, tmp_clique_dir=tmp_clique_dir)\n",
    "    train_set = corr_prop_filtered_proximity_df.columns.tolist()\n",
    "    if can_check_filtering_proc:\n",
    "        jpy_logger.setLevel(logging.DEBUG)\n",
    "        jpy_logger.debug(\"####################### item_pairs_ser #######################\")\n",
    "        display(item_pairs_ser)\n",
    "        jpy_logger.debug(\"####################### corr_prop_proximity_df #######################\")\n",
    "        display(corr_prop_proximity_df)\n",
    "        jpy_logger.debug(\"####################### corr_prop_filtered_proximity_df #######################\")\n",
    "        display(corr_prop_filtered_proximity_df)\n",
    "        train_set_pairs = [\" & \".join(pair) for pair in combinations(train_set, 2)]\n",
    "        train_set_pairs_mask = item_pairs_ser.index.isin(train_set_pairs)\n",
    "        jpy_logger.debug(\"####################### item_pairs_ser[filtered_item_pairs_mask] #######################\")\n",
    "        jpy_logger.debug(f\"\\n{item_pairs_ser[train_set_pairs_mask]}\")\n",
    "        jpy_logger.setLevel(logging.INFO)\n",
    "    return train_set\n",
    "\n",
    "\n",
    "corr_ser_std = corr_property_df.loc[::, \"corr_ser_std\"]\n",
    "corr_ser_mean = corr_property_df.loc[::, \"corr_ser_mean\"]\n",
    "selected_corr_prop_ser = corr_ser_mean if selected_corr_prop == \"corr_mean\" else corr_ser_std\n",
    "item_names = tuple(dataset_df.columns)\n",
    "corr_prop_filtered_items = gen_corr_prop_filtered_trainset(item_pairs_ser=selected_corr_prop_ser, corr_prop_cond=selected_corr_prop_cond,\n",
    "                                                           item_names=item_names, fill_diag_val=fill_diag_val, cliques_dir=cliques_dir,\n",
    "                                                           can_check_filtering_proc=can_check_filtering_proc)\n",
    "if len(corr_prop_filtered_items) > 10:\n",
    "    final_pick_items = gen_random_trainset(corr_prop_filtered_items, 4)\n",
    "else:\n",
    "    final_pick_items = corr_prop_filtered_items\n",
    "jpy_logger.info(\"!!!!!!!!!!!!!!!!!!!!!!!!!!!!!!!!!!!!!!!!! final_pick_items !!!!!!!!!!!!!!!!!!!!!!!!!!!!!!!!!!!!!!!!!\")\n",
    "jpy_logger.info(f\"{final_pick_items}\")\n",
    "jpy_logger.info(\"!\"*100)"
   ]
  },
  {
   "cell_type": "markdown",
   "id": "602fc61e-f00f-407e-9847-699bfeb37ee3",
   "metadata": {},
   "source": [
    "# PCA_items and Clustering_items filtered trainset"
   ]
  },
  {
   "cell_type": "code",
   "execution_count": null,
   "id": "58665207-79de-45fe-b9e6-4c8bdecda9c3",
   "metadata": {
    "tags": []
   },
   "outputs": [],
   "source": [
    "import numpy as np\n",
    "import pandas as pd\n",
    "from sklearn.decomposition import PCA\n",
    "from sklearn.cluster import AgglomerativeClustering\n",
    "from sklearn.preprocessing import MinMaxScaler\n",
    "\n",
    "\n",
    "def \n",
    "data = [[-1, 2, 3], [-0.5, -25, 6], [0, 20, -5], [1, 18, 10], [6, -2, 3]]\n",
    "scaler = MinMaxScaler()\n",
    "print(scaler.fit(data))\n",
    "\n",
    "pca = PCA(n_components=2)\n",
    "pca.fit_transform()\n",
    "data_array_pca = pca.transform(data_array_scaled)"
   ]
  },
  {
   "cell_type": "markdown",
   "id": "06c4976b-4f75-4d1d-965b-c1d2000674b7",
   "metadata": {},
   "source": [
    "# ..."
   ]
  },
  {
   "cell_type": "code",
   "execution_count": null,
   "id": "4cee94b9-ecf9-4162-9b88-ba34ee2a6b53",
   "metadata": {},
   "outputs": [],
   "source": [
    "\n"
   ]
  }
 ],
 "metadata": {
  "kernelspec": {
   "display_name": "Python 3 (ipykernel)",
   "language": "python",
   "name": "python3"
  },
  "language_info": {
   "codemirror_mode": {
    "name": "ipython",
    "version": 3
   },
   "file_extension": ".py",
   "mimetype": "text/x-python",
   "name": "python",
   "nbconvert_exporter": "python",
   "pygments_lexer": "ipython3",
   "version": "3.10.13"
  }
 },
 "nbformat": 4,
 "nbformat_minor": 5
}
