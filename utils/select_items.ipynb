{
 "cells": [
  {
   "cell_type": "code",
   "execution_count": null,
   "id": "22f85403-51cb-4cef-bc56-d869a6f681fa",
   "metadata": {
    "tags": []
   },
   "outputs": [],
   "source": [
    "import logging\n",
    "import random\n",
    "import sys\n",
    "from itertools import combinations, product\n",
    "from pprint import pformat\n",
    "from pathlib import Path\n",
    "\n",
    "import pandas as pd\n",
    "import numpy as np\n",
    "import dynamic_yaml\n",
    "import yaml\n",
    "\n",
    "sys.path.append(\"/workspace/multivariate-correlation-anomaly-detection/\")\n",
    "from utils.assorted_utils import load_multiple_data, load_dirs\n",
    "from utils.cluster_utils import (convert_pairs_data_to_proximity_mat, filter_proximity_mat, calc_pca, obs_various_n_clusters_hrchy_cluster,\n",
    "                                 calc_hrchy_cluster_given_n_clusters, filtered_small_n_samples_and_silhouette_min_cluster, select_cluster_labels_with_max_dist)\n",
    "from utils.log_utils import Log\n",
    "\n",
    "JPY_LOGGER = Log().init_logger(logger_name=\"ywt_jupyter\", edit_config={\"handlers\": {\"console\": {\"class\": \"logging.StreamHandler\",\n",
    "                                                                                                \"level\": \"INFO\",\n",
    "                                                                                                \"formatter\": \"simple\",\n",
    "                                                                                                \"stream\": \"ext://sys.stdout\"}}})"
   ]
  },
  {
   "cell_type": "markdown",
   "id": "9b4084c5-cfd1-4a07-b432-c51ddec0df38",
   "metadata": {
    "tags": []
   },
   "source": [
    "# Prepare data"
   ]
  },
  {
   "cell_type": "markdown",
   "id": "fef5cebb-06ab-4a8c-b020-6bb8be200126",
   "metadata": {
    "tags": []
   },
   "source": [
    "## Load Data"
   ]
  },
  {
   "cell_type": "code",
   "execution_count": null,
   "id": "ebe6dcae-4482-499c-ab1f-ef67310f0a8b",
   "metadata": {
    "tags": []
   },
   "outputs": [],
   "source": [
    "data_implement = \"SP500_20112015\"  # watch options by printing /config/data_config.yaml/[\"DATASETS\"].keys()\n",
    "# etl set setting\n",
    "retrieve_items_setting = \"-train_all\"  # -train_train|-train_all\n",
    "# set correlation type\n",
    "corr_type = \"pearson\"  # \"pearson\" | \"cross_corr\"\n",
    "# set target_df bins\n",
    "target_df_bins = \"bins_-10_-03_03_10\"\n",
    "# set CORR_WINDOW and CORR_STRIDE length\n",
    "w_l=50 ; s_l = 1\n",
    "# Decide how to calculate corr_ser\n",
    "corr_ser_clac_method = \"corr_ser_calc_regular\"  # corr_ser_calc_regular|corr_ser_calc_abs"
   ]
  },
  {
   "cell_type": "code",
   "execution_count": null,
   "id": "cc14d483-bfc6-4227-af95-031e392814b1",
   "metadata": {
    "tags": []
   },
   "outputs": [],
   "source": [
    "pipeline_corr_data_dir, corr_dir, target_dir, corr_property_dir, cliques_dir = load_dirs(data_implement=data_implement,\n",
    "                                                                                         retrieve_items_setting=retrieve_items_setting,\n",
    "                                                                                         corr_type=corr_type, target_df_bins=target_df_bins,\n",
    "                                                                                         w_l=w_l, s_l=s_l,\n",
    "                                                                                         corr_ser_clac_method=corr_ser_clac_method)\n",
    "dataset_df, corr_df, target_df, corr_property_df = load_multiple_data(data_implement=data_implement,\n",
    "                                                                      retrieve_items_setting=retrieve_items_setting,\n",
    "                                                                      corr_type=corr_type, target_df_bins=target_df_bins,\n",
    "                                                                      w_l=w_l, s_l=s_l,\n",
    "                                                                      corr_ser_clac_method=corr_ser_clac_method)\n",
    "display(dataset_df)\n",
    "display(corr_df)\n",
    "display(target_df)\n",
    "display(corr_property_df)"
   ]
  },
  {
   "cell_type": "markdown",
   "id": "8264546f-4577-4e3e-ae5e-1b6cedd7fd78",
   "metadata": {
    "jp-MarkdownHeadingCollapsed": true,
    "tags": []
   },
   "source": [
    "# Random pick trainset"
   ]
  },
  {
   "cell_type": "code",
   "execution_count": null,
   "id": "b3d3903a-0d6f-4857-a66f-c581b3920c4d",
   "metadata": {
    "tags": []
   },
   "outputs": [],
   "source": [
    "num_items = 100"
   ]
  },
  {
   "cell_type": "code",
   "execution_count": null,
   "id": "43c17e12-e5ae-4bdd-a2f3-009e6309e3e5",
   "metadata": {
    "tags": []
   },
   "outputs": [],
   "source": [
    "def gen_random_trainset(all_items: list, train_set_len: int = 100, verbose: int = 0):\n",
    "    \"\"\"\n",
    "    Randon pick items for trainset # Not always necessary to operate\n",
    "    \"\"\"\n",
    "    random.seed(10)\n",
    "    train_set = sorted(random.sample(all_items, train_set_len))\n",
    "\n",
    "    if verbose==1:\n",
    "        logging.info(f\"len(train_set):{len(train_set)}\")\n",
    "        pp = pprint.PrettyPrinter(width=500, compact=True)\n",
    "        pp.pprint(train_set)\n",
    "\n",
    "    return train_set\n",
    "\n",
    "final_pick_items = gen_random_trainset(dataset_df.columns.tolist(), num_items)\n",
    "JPY_LOGGER.info(\"!!!!!!!!!!!!!!!!!!!!!!!!!!!!!!!!!!!!!!!!! final_pick_items !!!!!!!!!!!!!!!!!!!!!!!!!!!!!!!!!!!!!!!!!\")\n",
    "JPY_LOGGER.info(f\"\\n{final_pick_items}\")\n",
    "JPY_LOGGER.info(\"!\"*100)"
   ]
  },
  {
   "cell_type": "markdown",
   "id": "7121521a-0b39-4b30-b807-536e8e8f3ce6",
   "metadata": {
    "tags": []
   },
   "source": [
    "# Correlation Series Property filtered trainset"
   ]
  },
  {
   "cell_type": "code",
   "execution_count": null,
   "id": "6dae6add-0a37-4910-8233-f881d99f4654",
   "metadata": {
    "tags": []
   },
   "outputs": [],
   "source": [
    "selected_corr_prop = \"corr_mean\"  # corr_mean|corr_std\n",
    "selected_corr_prop_cond = \"negative_corr_prop\"\n",
    "tmp_clique_dir = cliques_dir/f\"{selected_corr_prop}/{selected_corr_prop_cond}\"\n",
    "fill_diag_val = 1\n",
    "can_check_filtering_proc = True"
   ]
  },
  {
   "cell_type": "code",
   "execution_count": null,
   "id": "df71c920-5961-49c5-bb9d-c5d51dc50964",
   "metadata": {
    "tags": []
   },
   "outputs": [],
   "source": [
    "def gen_corr_prop_filtered_trainset(item_pairs_ser: pd.Series, corr_prop_cond: str, item_names: tuple, fill_diag_val: int,\n",
    "                                    cliques_dir: Path, can_check_filtering_proc: bool):\n",
    "    corr_prop_proximity_df = convert_pairs_data_to_proximity_mat(item_pairs_ser=item_pairs_ser, item_names=item_names, fill_diag_val=fill_diag_val)\n",
    "    corr_prop_mask_settings = {\"positive_corr_prop\": (corr_prop_proximity_df > 0),\n",
    "                               \"negative_corr_prop\": (corr_prop_proximity_df < 0)}\n",
    "    corr_prop_mask = corr_prop_mask_settings[corr_prop_cond]\n",
    "    corr_prop_filtered_proximity_df, _ = filter_proximity_mat(proximity_mat=corr_prop_proximity_df.copy(), filter_mask=corr_prop_mask, tmp_clique_dir=tmp_clique_dir)\n",
    "    train_set = corr_prop_filtered_proximity_df.columns.tolist()\n",
    "    if can_check_filtering_proc:\n",
    "        JPY_LOGGER.setLevel(logging.DEBUG)\n",
    "        JPY_LOGGER.debug(\"####################### item_pairs_ser #######################\")\n",
    "        display(item_pairs_ser)\n",
    "        JPY_LOGGER.debug(\"####################### corr_prop_proximity_df #######################\")\n",
    "        display(corr_prop_proximity_df)\n",
    "        JPY_LOGGER.debug(\"####################### corr_prop_filtered_proximity_df #######################\")\n",
    "        display(corr_prop_filtered_proximity_df)\n",
    "        train_set_pairs = [\" & \".join(pair) for pair in combinations(train_set, 2)]\n",
    "        train_set_pairs_mask = item_pairs_ser.index.isin(train_set_pairs)\n",
    "        JPY_LOGGER.debug(\"####################### item_pairs_ser[filtered_item_pairs_mask] #######################\")\n",
    "        JPY_LOGGER.debug(f\"\\n{item_pairs_ser[train_set_pairs_mask]}\")\n",
    "        JPY_LOGGER.setLevel(logging.INFO)\n",
    "    return train_set\n",
    "\n",
    "\n",
    "corr_ser_std = corr_property_df.loc[::, \"corr_ser_std\"]\n",
    "corr_ser_mean = corr_property_df.loc[::, \"corr_ser_mean\"]\n",
    "selected_corr_prop_ser = corr_ser_mean if selected_corr_prop == \"corr_mean\" else corr_ser_std\n",
    "item_names = tuple(dataset_df.columns)\n",
    "corr_prop_filtered_items = gen_corr_prop_filtered_trainset(item_pairs_ser=selected_corr_prop_ser, corr_prop_cond=selected_corr_prop_cond,\n",
    "                                                           item_names=item_names, fill_diag_val=fill_diag_val, cliques_dir=cliques_dir,\n",
    "                                                           can_check_filtering_proc=can_check_filtering_proc)\n",
    "if len(corr_prop_filtered_items) > 10:\n",
    "    final_pick_items = gen_random_trainset(corr_prop_filtered_items, 4)\n",
    "else:\n",
    "    final_pick_items = corr_prop_filtered_items\n",
    "JPY_LOGGER.info(\"!!!!!!!!!!!!!!!!!!!!!!!!!!!!!!!!!!!!!!!!! final_pick_items !!!!!!!!!!!!!!!!!!!!!!!!!!!!!!!!!!!!!!!!!\")\n",
    "JPY_LOGGER.info(f\"{final_pick_items}\")\n",
    "JPY_LOGGER.info(\"!\"*100)"
   ]
  },
  {
   "cell_type": "markdown",
   "id": "602fc61e-f00f-407e-9847-699bfeb37ee3",
   "metadata": {},
   "source": [
    "# PCA_items and Clustering_items filtered trainset"
   ]
  },
  {
   "cell_type": "markdown",
   "id": "f0b156af-de37-4e77-92eb-469f52c168bd",
   "metadata": {
    "tags": []
   },
   "source": [
    "## Fisrt, Rnning PCA"
   ]
  },
  {
   "cell_type": "code",
   "execution_count": null,
   "id": "408f8d36-3758-4e5e-a28c-496c49a8bc17",
   "metadata": {
    "tags": []
   },
   "outputs": [],
   "source": [
    "pca_explanation_variance_thres = 1e-1\n",
    "\n",
    "pca_input_data = dataset_df.T\n",
    "pca_input_data_samples = pca_input_data.index\n",
    "pca_input_data_featues = pca_input_data.columns\n",
    "reducted_data_df, pri_components = calc_pca(data=pca_input_data, n_samples=len(pca_input_data_samples), variance_thres=pca_explanation_variance_thres)\n",
    "\n",
    "JPY_LOGGER.info(\"=\"*80)\n",
    "JPY_LOGGER.info(f\"pca_explanation_variance_thres:{pca_explanation_variance_thres}\")\n",
    "JPY_LOGGER.info(f\"pca_input_data.shape:{pca_input_data.shape}, len(pca_input_data_samples):{len(pca_input_data_samples)}, len(pca_input_data_featues):{len(pca_input_data_featues)}\")\n",
    "JPY_LOGGER.info(f\"pca_input_data_samples[:3]:{pca_input_data_samples[:3]}\")\n",
    "JPY_LOGGER.info(f\"pca_input_data_featues[:3]:{pca_input_data_featues[:3]}\")\n",
    "JPY_LOGGER.info(f\"reducted_data_df.shape: {reducted_data_df.shape}\")\n",
    "JPY_LOGGER.info(\"=\"*80)\n",
    "display(reducted_data_df)"
   ]
  },
  {
   "cell_type": "markdown",
   "id": "f3b8a337-8df2-4588-911c-5ed786b426cd",
   "metadata": {
    "execution": {
     "iopub.execute_input": "2023-11-11T17:47:03.267435Z",
     "iopub.status.busy": "2023-11-11T17:47:03.266946Z",
     "iopub.status.idle": "2023-11-11T17:47:03.293549Z",
     "shell.execute_reply": "2023-11-11T17:47:03.293085Z",
     "shell.execute_reply.started": "2023-11-11T17:47:03.267399Z"
    },
    "jp-MarkdownHeadingCollapsed": true,
    "tags": []
   },
   "source": [
    "## Seond, Observe clustering hyper-parameters"
   ]
  },
  {
   "cell_type": "markdown",
   "id": "9969764e-cf79-4b95-ab03-ac5e19e079a5",
   "metadata": {
    "tags": []
   },
   "source": [
    "### Overview large range of hyper params of Clustering"
   ]
  },
  {
   "cell_type": "code",
   "execution_count": null,
   "id": "bf46bc97-e3a1-4c7d-a760-db2f71650b8c",
   "metadata": {
    "tags": []
   },
   "outputs": [],
   "source": [
    "grid_n_clusters = range(2, 51)\n",
    "linkage = \"complete\"\n",
    "cluster_metric = \"euclidean\"\n",
    "cluster_conditions = {\"n_samples\": len(pca_input_data_samples), \"n_features\": len(pri_components), \"n_clusters_list\": grid_n_clusters, \"linkage\": linkage, \"cluster_metric\": cluster_metric}\n",
    "obs_various_n_clusters_hrchy_cluster(data=reducted_data_df, cluster_conds=cluster_conditions, can_plot_each_cluster_info=False)\n",
    "\n",
    "JPY_LOGGER.info(\"=\"*80)\n",
    "JPY_LOGGER.info(f\"cluster_conditions:{cluster_conditions}\")\n",
    "JPY_LOGGER.info(\"=\"*80)"
   ]
  },
  {
   "cell_type": "markdown",
   "id": "c0633c29-ae2d-4af0-b513-d013dd846a3e",
   "metadata": {
    "tags": []
   },
   "source": [
    "### Reduce range of hyper params of Clustering, and observe again"
   ]
  },
  {
   "cell_type": "code",
   "execution_count": null,
   "id": "a3221788-0c09-44af-989a-f5c43778e732",
   "metadata": {
    "tags": []
   },
   "outputs": [],
   "source": [
    "selected_n_clusters_list = [12, 35]\n",
    "linkage = \"complete\"\n",
    "cluster_metric = \"euclidean\"\n",
    "cluster_conditions = {\"n_samples\": len(pca_input_data_samples), \"n_features\": len(pri_components), \"n_clusters_list\": selected_n_clusters_list, \"linkage\": linkage, \"cluster_metric\": cluster_metric}\n",
    "\n",
    "obs_various_n_clusters_hrchy_cluster(data=reducted_data_df, cluster_conds=cluster_conditions, can_plot_each_cluster_info=True)"
   ]
  },
  {
   "cell_type": "markdown",
   "id": "da989059-1a94-4883-8968-8f1dbf795711",
   "metadata": {
    "tags": []
   },
   "source": [
    "## Third, Rnning cluster with specific hypter-parameters"
   ]
  },
  {
   "cell_type": "code",
   "execution_count": null,
   "id": "6da0dae6-0c80-4f9c-8a32-9cc4de652a5a",
   "metadata": {
    "tags": []
   },
   "outputs": [],
   "source": [
    "linkage = \"complete\"\n",
    "cluster_metric = \"euclidean\"\n",
    "selected_n_clusters = 35\n",
    "cluster_conditions = {\"n_samples\": len(pca_input_data_samples), \"n_features\": len(pri_components), \"n_clusters_list\": selected_n_clusters, \"linkage\": linkage, \"cluster_metric\": cluster_metric}\n",
    "pd.set_option('display.max_columns', None)\n",
    "pd.set_option('display.max_colwidth', 80)\n",
    "\n",
    "JPY_LOGGER.info(\"=\"*80)\n",
    "JPY_LOGGER.info(f\"pca_explanation_variance_thres:{pca_explanation_variance_thres}\")\n",
    "JPY_LOGGER.info(f\"pca_input_data.shape:{pca_input_data.shape}, len(pca_input_data_samples):{len(pca_input_data_samples)}, len(pca_input_data_featues):{len(pca_input_data_featues)}\")\n",
    "JPY_LOGGER.info(f\"pca_input_data_samples[:3]:{pca_input_data_samples[:3]}\")\n",
    "JPY_LOGGER.info(f\"pca_input_data_featues[:3]:{pca_input_data_featues[:3]}\")\n",
    "JPY_LOGGER.info(f\"reducted_data_df.shape: {reducted_data_df.shape}\")\n",
    "JPY_LOGGER.info(f\"cluster_conditions:{cluster_conditions}\")\n",
    "JPY_LOGGER.info(\"=\"*80)"
   ]
  },
  {
   "cell_type": "code",
   "execution_count": null,
   "id": "1fc6abe7-7f29-416f-ab61-7cfb600f6b37",
   "metadata": {
    "tags": []
   },
   "outputs": [],
   "source": [
    "each_sample_cluster_labels, cluster_centers, silhouette_avg, sample_silhouette_values, clusters_info_df = calc_hrchy_cluster_given_n_clusters(n_clusters=selected_n_clusters,\n",
    "                                                                                                                                              data=reducted_data_df,\n",
    "                                                                                                                                              cluster_conds=cluster_conditions)\n",
    "filtered_1_clusters_info_df = filtered_small_n_samples_and_silhouette_min_cluster(clusters_info_df=clusters_info_df, min_cluster_n_samples=3, min_cluster_silhouette=0)\n",
    "selected_cluter_labels, max_cluster_dist, filtered_2_clusters_info_df = select_cluster_labels_with_max_dist(filtered_1_clusters_info_df)\n",
    "\n",
    "JPY_LOGGER.info(\"=\"*80)\n",
    "JPY_LOGGER.info(f\"max_cluster_dist: {max_cluster_dist}\")\n",
    "JPY_LOGGER.info(f\"selected_cluter_labels: {selected_cluter_labels}\")\n",
    "JPY_LOGGER.info(\"=\"*80)\n",
    "display(filtered_2_clusters_info_df)"
   ]
  },
  {
   "cell_type": "markdown",
   "id": "31b4907a-66d5-4fd5-acae-763f4be28e53",
   "metadata": {},
   "source": [
    "## Select items"
   ]
  },
  {
   "cell_type": "code",
   "execution_count": null,
   "id": "da7ee4b1-3b83-40bf-b34e-3f9553e71c99",
   "metadata": {
    "tags": []
   },
   "outputs": [],
   "source": [
    "final_pick_items = dict()\n",
    "all_input_items = pca_input_data_samples\n",
    "for cluster_label in selected_cluter_labels:\n",
    "    final_pick_items.update({f\"cluster_label_{cluster_label}\": all_input_items[each_sample_cluster_labels == cluster_label].tolist()})\n",
    "JPY_LOGGER.info(\"!!!!!!!!!!!!!!!!!!!!!!!!!!!!!!!!!!!!!!!!! final_pick_items !!!!!!!!!!!!!!!!!!!!!!!!!!!!!!!!!!!!!!!!!\")\n",
    "JPY_LOGGER.info(f\"{final_pick_items}\")\n",
    "JPY_LOGGER.info(\"!\"*100)"
   ]
  },
  {
   "cell_type": "markdown",
   "id": "06c4976b-4f75-4d1d-965b-c1d2000674b7",
   "metadata": {},
   "source": [
    "# ..."
   ]
  },
  {
   "cell_type": "code",
   "execution_count": null,
   "id": "4cee94b9-ecf9-4162-9b88-ba34ee2a6b53",
   "metadata": {},
   "outputs": [],
   "source": []
  }
 ],
 "metadata": {
  "kernelspec": {
   "display_name": "Python 3 (ipykernel)",
   "language": "python",
   "name": "python3"
  },
  "language_info": {
   "codemirror_mode": {
    "name": "ipython",
    "version": 3
   },
   "file_extension": ".py",
   "mimetype": "text/x-python",
   "name": "python",
   "nbconvert_exporter": "python",
   "pygments_lexer": "ipython3",
   "version": "3.10.13"
  }
 },
 "nbformat": 4,
 "nbformat_minor": 5
}
