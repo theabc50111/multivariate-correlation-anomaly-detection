{
 "cells": [
  {
   "cell_type": "code",
   "execution_count": null,
   "id": "22f85403-51cb-4cef-bc56-d869a6f681fa",
   "metadata": {
    "tags": []
   },
   "outputs": [],
   "source": [
    "import logging\n",
    "import random\n",
    "from pprint import pformat\n",
    "from pathlib import Path\n",
    "import sys\n",
    "\n",
    "import pandas as pd\n",
    "import dynamic_yaml\n",
    "import yaml\n",
    "\n",
    "sys.path.append(\"/workspace/correlation-change-predict/utils\")\n",
    "from utils import load_multiple_data\n",
    "\n",
    "logging.basicConfig(level=logging.INFO)"
   ]
  },
  {
   "cell_type": "markdown",
   "id": "9b4084c5-cfd1-4a07-b432-c51ddec0df38",
   "metadata": {},
   "source": [
    "# Prepare data"
   ]
  },
  {
   "cell_type": "markdown",
   "id": "fef5cebb-06ab-4a8c-b020-6bb8be200126",
   "metadata": {
    "tags": []
   },
   "source": [
    "## Load Data"
   ]
  },
  {
   "cell_type": "code",
   "execution_count": null,
   "id": "75ca02b9-0b73-49d5-ac7a-f659e3907778",
   "metadata": {
    "tags": []
   },
   "outputs": [],
   "source": [
    "data_implement = \"SP500_20112015\"  # watch options by printing /config/data_config.yaml/[\"DATASETS\"].keys()\n",
    "# etl set setting\n",
    "retrieve_items_setting = \"-train_all\"  # -train_train|-train_all\n",
    "# set correlation type\n",
    "corr_type = \"pearson\"  # \"pearson\" | \"cross_corr\"\n",
    "# set CORR_WINDOW and CORR_STRIDE length\n",
    "w_l=50 ; s_l = 1\n",
    "# Decide how to calculate corr_ser\n",
    "corr_ser_clac_method = \"corr_ser_calc_regular\"  # corr_ser_calc_regular|corr_ser_calc_abs\n",
    "\n",
    "dataset_df, corr_df, target_df, corr_property_df = load_multiple_data(data_implement=data_implement,\n",
    "                                                                      retrieve_items_setting=retrieve_items_setting,\n",
    "                                                                      corr_type=corr_type, w_l=w_l, s_l=s_l,\n",
    "                                                                      corr_ser_clac_method=corr_ser_clac_method)\n",
    "display(dataset_df)\n",
    "display(corr_df)\n",
    "display(target_df)\n",
    "display(corr_property_df)"
   ]
  },
  {
   "cell_type": "markdown",
   "id": "8264546f-4577-4e3e-ae5e-1b6cedd7fd78",
   "metadata": {
    "tags": []
   },
   "source": [
    "# Random pick trainset"
   ]
  },
  {
   "cell_type": "code",
   "execution_count": null,
   "id": "43c17e12-e5ae-4bdd-a2f3-009e6309e3e5",
   "metadata": {
    "tags": []
   },
   "outputs": [],
   "source": [
    "def gen_random_trainset(all_items: list, train_set_len: int = 100, verbose: int = 0):\n",
    "    \"\"\"\n",
    "    Randon pick items for trainset # Not always necessary to operate\n",
    "    \"\"\"\n",
    "    random.seed(10)\n",
    "    train_set = sorted(random.sample(all_items, train_set_len))\n",
    "\n",
    "    if verbose==1:\n",
    "        logging.info(f\"len(train_set):{len(train_set)}\")\n",
    "        pp = pprint.PrettyPrinter(width=500, compact=True)\n",
    "        pp.pprint(train_set)\n",
    "\n",
    "    return train_set\n",
    "\n",
    "print(gen_random_trainset(dataset_df.columns.tolist(), 100))"
   ]
  },
  {
   "cell_type": "markdown",
   "id": "7121521a-0b39-4b30-b807-536e8e8f3ce6",
   "metadata": {},
   "source": [
    "# Correlation Series Property filtered trainset"
   ]
  },
  {
   "cell_type": "code",
   "execution_count": null,
   "id": "3c5258bf-0e07-42a0-beaa-eb36cd24fd18",
   "metadata": {},
   "outputs": [],
   "source": [
    "corr_ser_std = corr_property_df.loc[::, \"corr_ser_std\"]\n",
    "corr_ser_mean = corr_property_df.loc[::, \"corr_ser_mean\"]\n",
    "\n",
    "display(corr_ser_std)\n",
    "display(corr_ser_mean)"
   ]
  },
  {
   "cell_type": "markdown",
   "id": "06c4976b-4f75-4d1d-965b-c1d2000674b7",
   "metadata": {},
   "source": [
    "# ..."
   ]
  },
  {
   "cell_type": "code",
   "execution_count": null,
   "id": "4cee94b9-ecf9-4162-9b88-ba34ee2a6b53",
   "metadata": {},
   "outputs": [],
   "source": []
  }
 ],
 "metadata": {
  "kernelspec": {
   "display_name": "Python 3 (ipykernel)",
   "language": "python",
   "name": "python3"
  },
  "language_info": {
   "codemirror_mode": {
    "name": "ipython",
    "version": 3
   },
   "file_extension": ".py",
   "mimetype": "text/x-python",
   "name": "python",
   "nbconvert_exporter": "python",
   "pygments_lexer": "ipython3",
   "version": "3.10.13"
  }
 },
 "nbformat": 4,
 "nbformat_minor": 5
}
