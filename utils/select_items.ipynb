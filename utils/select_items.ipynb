{
 "cells": [
  {
   "cell_type": "code",
   "execution_count": null,
   "id": "22f85403-51cb-4cef-bc56-d869a6f681fa",
   "metadata": {
    "tags": []
   },
   "outputs": [],
   "source": [
    "from datetime import datetime\n",
    "import sys\n",
    "\n",
    "import pandas as pd\n",
    "\n",
    "sys.path.append(\"/workspace/multivariate-correlation-anomaly-detection/\")\n",
    "from utils.assorted_utils import load_multiple_data, load_dirs, load_data_cfg\n",
    "from utils.select_items_utils import gen_random_items, gen_corr_prop_filtered_items, gen_pca_cluster_filtered_items_each_cluster, gen_pca_cluster_filtered_pairs_each_cluster\n",
    "from utils.cluster_utils import (calc_pca, obs_various_n_clusters_hrchy_cluster)\n",
    "from utils.log_utils import Log\n",
    "\n",
    "JPY_LOGGER = Log(df_max_rows=100).init_logger(logger_name=\"ywt_jupyter\")"
   ]
  },
  {
   "cell_type": "markdown",
   "id": "9b4084c5-cfd1-4a07-b432-c51ddec0df38",
   "metadata": {
    "tags": []
   },
   "source": [
    "# Prepare data"
   ]
  },
  {
   "cell_type": "markdown",
   "id": "fef5cebb-06ab-4a8c-b020-6bb8be200126",
   "metadata": {
    "tags": []
   },
   "source": [
    "## Load Data"
   ]
  },
  {
   "cell_type": "code",
   "execution_count": null,
   "id": "ebe6dcae-4482-499c-ab1f-ef67310f0a8b",
   "metadata": {
    "tags": []
   },
   "outputs": [],
   "source": [
    "data_implement = \"SP500_20112015\"  # watch options by printing /config/data_config.yaml/[\"DATASETS\"].keys()\n",
    "# etl set setting\n",
    "retrieve_items_setting = \"-train_all\"  # -train_train|-train_all\n",
    "# set correlation type\n",
    "corr_type = \"pearson\"  # \"pearson\" | \"cross_corr\"\n",
    "# set target_df bins\n",
    "target_df_bins = \"bins_-10_-03_03_10\"\n",
    "# set CORR_WINDOW and CORR_STRIDE length\n",
    "w_l=50 ; s_l = 1\n",
    "# Decide how to calculate corr_ser\n",
    "corr_ser_clac_method = \"corr_ser_calc_regular\"  # corr_ser_calc_regular|corr_ser_calc_abs"
   ]
  },
  {
   "cell_type": "code",
   "execution_count": null,
   "id": "cc14d483-bfc6-4227-af95-031e392814b1",
   "metadata": {
    "tags": []
   },
   "outputs": [],
   "source": [
    "pipeline_corr_data_dir, corr_dir, target_dir, corr_property_dir, cliques_dir, cluster_dir = load_dirs(data_implement=data_implement,\n",
    "                                                                                                      retrieve_items_setting=retrieve_items_setting,\n",
    "                                                                                                      corr_type=corr_type, target_df_bins=target_df_bins,\n",
    "                                                                                                      w_l=w_l, s_l=s_l,\n",
    "                                                                                                      corr_ser_clac_method=corr_ser_clac_method)\n",
    "dataset_df, corr_df, target_df, corr_property_df = load_multiple_data(data_implement=data_implement,\n",
    "                                                                      retrieve_items_setting=retrieve_items_setting,\n",
    "                                                                      corr_type=corr_type, target_df_bins=target_df_bins,\n",
    "                                                                      w_l=w_l, s_l=s_l,\n",
    "                                                                      corr_ser_clac_method=corr_ser_clac_method)\n",
    "display(dataset_df)\n",
    "display(corr_df)\n",
    "display(target_df)\n",
    "display(corr_property_df)"
   ]
  },
  {
   "cell_type": "markdown",
   "id": "8264546f-4577-4e3e-ae5e-1b6cedd7fd78",
   "metadata": {
    "tags": []
   },
   "source": [
    "# Random pick trainset"
   ]
  },
  {
   "cell_type": "code",
   "execution_count": null,
   "id": "adc6b22b-642d-4268-b6d4-03841025152b",
   "metadata": {
    "tags": []
   },
   "outputs": [],
   "source": [
    "num_items = 10\n",
    "selected_seed = None\n",
    "rand_seed = load_data_cfg()[\"RANDOM_SEEDS\"][selected_seed] if selected_seed is not None else None\n",
    "\n",
    "JPY_LOGGER.info(\"=\"*80)\n",
    "JPY_LOGGER.info(f\"num_items: {num_items}\")\n",
    "JPY_LOGGER.info(f\"rand_seed: {rand_seed}\")\n",
    "JPY_LOGGER.info(\"=\"*80)"
   ]
  },
  {
   "cell_type": "code",
   "execution_count": null,
   "id": "82ce1a98-9e8e-41ea-a39c-3c0bb406f0da",
   "metadata": {
    "tags": []
   },
   "outputs": [],
   "source": [
    "final_pick_items = gen_random_items(all_items=dataset_df.columns.tolist(), ret_items_len=num_items, verbose=0, rand_seed=rand_seed)\n",
    "\n",
    "JPY_LOGGER.info(\"!!!!!!!!!!!!!!!!!!!!!!!!!!!!!!!!!!!!!!!!! final_pick_items !!!!!!!!!!!!!!!!!!!!!!!!!!!!!!!!!!!!!!!!!\")\n",
    "JPY_LOGGER.info(f\"\\n{final_pick_items}\")\n",
    "JPY_LOGGER.info(\"!\"*100)"
   ]
  },
  {
   "cell_type": "markdown",
   "id": "7121521a-0b39-4b30-b807-536e8e8f3ce6",
   "metadata": {
    "jp-MarkdownHeadingCollapsed": true,
    "tags": []
   },
   "source": [
    "# Correlation Series Property filtered trainset"
   ]
  },
  {
   "cell_type": "code",
   "execution_count": null,
   "id": "70de7bf4-7349-40a3-811c-a6efd12026ec",
   "metadata": {
    "tags": []
   },
   "outputs": [],
   "source": [
    "selected_corr_prop = \"corr_mean\"  # corr_mean|corr_std\n",
    "selected_corr_prop_cond = \"negative_corr_prop\"\n",
    "tmp_clique_dir = cliques_dir/f\"{selected_corr_prop}/{selected_corr_prop_cond}\"\n",
    "fill_diag_val = 1\n",
    "ret_items_len = 4\n",
    "can_check_filtering_proc = True\n",
    "corr_ser_std = corr_property_df.loc[::, \"corr_ser_std\"]\n",
    "corr_ser_mean = corr_property_df.loc[::, \"corr_ser_mean\"]\n",
    "selected_corr_prop_ser = corr_ser_mean if selected_corr_prop == \"corr_mean\" else corr_ser_std\n",
    "item_names = tuple(dataset_df.columns)"
   ]
  },
  {
   "cell_type": "code",
   "execution_count": null,
   "id": "46d69ffe-7613-46b8-8598-1bec0fd44f46",
   "metadata": {
    "tags": []
   },
   "outputs": [],
   "source": [
    "final_pick_items = gen_corr_prop_filtered_items(item_pairs_ser=selected_corr_prop_ser, corr_prop_cond=selected_corr_prop_cond,\n",
    "                                                item_names=item_names, fill_diag_val=fill_diag_val, ret_items_len=ret_items_len,\n",
    "                                                cliques_dir=tmp_clique_dir, can_check_filtering_proc=can_check_filtering_proc)\n",
    "\n",
    "JPY_LOGGER.info(\"!!!!!!!!!!!!!!!!!!!!!!!!!!!!!!!!!!!!!!!!! final_pick_items !!!!!!!!!!!!!!!!!!!!!!!!!!!!!!!!!!!!!!!!!\")\n",
    "JPY_LOGGER.info(f\"{final_pick_items}\")\n",
    "JPY_LOGGER.info(\"!\"*100)"
   ]
  },
  {
   "cell_type": "markdown",
   "id": "602fc61e-f00f-407e-9847-699bfeb37ee3",
   "metadata": {
    "tags": []
   },
   "source": [
    "# PCA and Clustering filtering on items | PCA and Clustering filtering on item_pairs"
   ]
  },
  {
   "cell_type": "markdown",
   "id": "e4cab0a9-3cdf-46c6-b8bf-76b449b8a7b9",
   "metadata": {
    "tags": []
   },
   "source": [
    "## Observe hyper parameters of PCA & Cluster model"
   ]
  },
  {
   "cell_type": "markdown",
   "id": "7123216a-1a66-4333-8a3b-01113289590c",
   "metadata": {
    "tags": []
   },
   "source": [
    "### Observe big range hyper parameters of PCA & Cluster model"
   ]
  },
  {
   "cell_type": "code",
   "execution_count": null,
   "id": "0aaf456d-615e-423d-b7d4-0f3988297fe9",
   "metadata": {
    "tags": []
   },
   "outputs": [],
   "source": [
    "filtering_on_items = True\n",
    "filtering_on_item_pairs = False\n",
    "assert filtering_on_items^filtering_on_item_pairs\n",
    "if filtering_on_items:\n",
    "    pca_input_data = dataset_df.T\n",
    "    save_fig_dir = cluster_dir/\"pca_hrchy/cluxter_with_items\"\n",
    "elif filtering_on_item_pairs:\n",
    "    pca_input_data = corr_df\n",
    "    save_fig_dir = cluster_dir/\"pca_hrchy/cluxter_with_pairs\"\n",
    "\n",
    "obs_grid_pca_explanation_variance_thres = [1e-1]\n",
    "pca_input_data_samples = pca_input_data.index\n",
    "pca_input_data_featues = pca_input_data.columns\n",
    "obs_grid_n_clusters = range(2, 50)\n",
    "obs_linkage = \"complete\"\n",
    "obs_cluster_metric = \"euclidean\"\n",
    "save_fig_dir.mkdir(parents=True, exist_ok=True)"
   ]
  },
  {
   "cell_type": "code",
   "execution_count": null,
   "id": "2ba3aef0-2d57-427b-91a7-340a49f34a4d",
   "metadata": {
    "tags": []
   },
   "outputs": [],
   "source": [
    "for obs_pca_explanation_variance_thres in obs_grid_pca_explanation_variance_thres:\n",
    "    save_fig_path = save_fig_dir/f\"{datetime.now().strftime('%Y%m%d%H%M%S')}_pca_thres({str(obs_pca_explanation_variance_thres).replace('.', '')})_silhouette_avg_vs_n_clusters\"\n",
    "    obs_reducted_data_df, obs_pri_components = calc_pca(data=pca_input_data, n_samples=len(pca_input_data_samples),\n",
    "                                                        variance_thres=obs_pca_explanation_variance_thres, verbose=0)\n",
    "    obs_cluster_conditions = {\"n_samples\": len(pca_input_data_samples), \"n_features\": len(obs_pri_components), \"n_clusters_list\": obs_grid_n_clusters,\n",
    "                              \"linkage\": obs_linkage, \"cluster_metric\": obs_cluster_metric}\n",
    "    obs_various_n_clusters_hrchy_cluster(data=obs_reducted_data_df, cluster_conds=obs_cluster_conditions, can_plot_each_cluster_info=False, save_fig_path=save_fig_path)\n",
    "\n",
    "    JPY_LOGGER.info(\"=\"*100)\n",
    "    JPY_LOGGER.info(f\"pca_explanation_variance_thres:{obs_pca_explanation_variance_thres}\")\n",
    "    JPY_LOGGER.info(f\"pca_input_data.shape:{pca_input_data.shape}, len(pca_input_data_samples):{len(pca_input_data_samples)}, len(pca_input_data_featues):{len(pca_input_data_featues)}\")\n",
    "    JPY_LOGGER.info(f\"pca_input_data_samples[:3]:{pca_input_data_samples[:3]}\")\n",
    "    JPY_LOGGER.info(f\"pca_input_data_featues[:3]:{pca_input_data_featues[:3]}\")\n",
    "    JPY_LOGGER.info(f\"cluster_conditions: {obs_cluster_conditions}\")\n",
    "    JPY_LOGGER.info(\"=\"*100)"
   ]
  },
  {
   "cell_type": "markdown",
   "id": "9c495e12-731e-42db-8b36-dc4bbfac7f7d",
   "metadata": {
    "tags": []
   },
   "source": [
    "### Reduce range of hyper params of PCA and Clustering, and observe again"
   ]
  },
  {
   "cell_type": "code",
   "execution_count": null,
   "id": "73aef8f6-74ef-41d9-aefc-88ffdca4267a",
   "metadata": {
    "tags": []
   },
   "outputs": [],
   "source": [
    "obs_selected_pca_explanation_variance_thres = 1e-1\n",
    "obs_selected_n_clusters_list = [12, 35]"
   ]
  },
  {
   "cell_type": "code",
   "execution_count": null,
   "id": "ff09bd2e-af44-4316-bc6f-92057c23d356",
   "metadata": {
    "tags": []
   },
   "outputs": [],
   "source": [
    "obs_reducted_data_df, obs_pri_components = calc_pca(data=pca_input_data, n_samples=len(pca_input_data_samples),\n",
    "                                                    variance_thres=obs_selected_pca_explanation_variance_thres, verbose=0)\n",
    "obs_cluster_conditions = {\"n_samples\": len(pca_input_data_samples), \"n_features\": len(obs_pri_components), \"n_clusters_list\": obs_selected_n_clusters_list,\n",
    "                          \"linkage\": obs_linkage, \"cluster_metric\": obs_cluster_metric}\n",
    "obs_various_n_clusters_hrchy_cluster(data=obs_reducted_data_df, cluster_conds=obs_cluster_conditions, can_plot_each_cluster_info=True)\n",
    "\n",
    "JPY_LOGGER.info(\"=\"*100)\n",
    "JPY_LOGGER.info(f\"pca_explanation_variance_thres:{obs_selected_pca_explanation_variance_thres}\")\n",
    "JPY_LOGGER.info(f\"pca_input_data.shape:{pca_input_data.shape}, len(pca_input_data_samples):{len(pca_input_data_samples)}, len(pca_input_data_featues):{len(pca_input_data_featues)}\")\n",
    "JPY_LOGGER.info(f\"pca_input_data_samples[:3]:{pca_input_data_samples[:3]}\")\n",
    "JPY_LOGGER.info(f\"pca_input_data_featues[:3]:{pca_input_data_featues[:3]}\")\n",
    "JPY_LOGGER.info(f\"cluster_conditions: {obs_cluster_conditions}\")\n",
    "JPY_LOGGER.info(\"=\"*100)"
   ]
  },
  {
   "cell_type": "markdown",
   "id": "31b4907a-66d5-4fd5-acae-763f4be28e53",
   "metadata": {
    "tags": []
   },
   "source": [
    "## Select items"
   ]
  },
  {
   "cell_type": "code",
   "execution_count": null,
   "id": "72509f10-0416-4509-9cfd-15e8df01c66a",
   "metadata": {
    "tags": []
   },
   "outputs": [],
   "source": [
    "pca_kwargs = {\"n_samples\":len(pca_input_data_samples), \"pca_explanation_variance_thres\":  1e-1}\n",
    "linkage = \"complete\"\n",
    "cluster_metric = \"euclidean\"\n",
    "selected_n_clusters = 35\n",
    "cluster_kwargs = {\"n_clusters\": selected_n_clusters, \"linkage\": linkage, \"cluster_metric\": cluster_metric}\n",
    "\n",
    "JPY_LOGGER.info(\"=\"*80)\n",
    "JPY_LOGGER.info(f\"pca_input_data.shape:{pca_input_data.shape}, len(pca_input_data_samples):{len(pca_input_data_samples)}, len(pca_input_data_featues):{len(pca_input_data_featues)}\")\n",
    "JPY_LOGGER.info(f\"pca_input_data_samples[:3]:{pca_input_data_samples[:3]}\")\n",
    "JPY_LOGGER.info(f\"pca_input_data_featues[:3]:{pca_input_data_featues[:3]}\")\n",
    "JPY_LOGGER.info(f\"pca_kwargs:{pca_kwargs}\")\n",
    "JPY_LOGGER.info(f\"cluster_kwargs:{cluster_kwargs}\")\n",
    "JPY_LOGGER.info(\"=\"*80)"
   ]
  },
  {
   "cell_type": "code",
   "execution_count": null,
   "id": "2bcdc08d-aa3d-454d-b70e-d9f41221d7b4",
   "metadata": {
    "tags": []
   },
   "outputs": [],
   "source": [
    "if filtering_on_items:\n",
    "    final_pick_items = gen_pca_cluster_filtered_items_each_cluster(pca_input_data=pca_input_data, pca_kwargs=pca_kwargs, cluster_kwargs=cluster_kwargs)\n",
    "    JPY_LOGGER.info(\"!!!!!!!!!!!!!!!!!!!!!!!!!!!!!!!!!!!!!!!!! final_pick_items !!!!!!!!!!!!!!!!!!!!!!!!!!!!!!!!!!!!!!!!!\")\n",
    "    JPY_LOGGER.info(f\"{final_pick_items}\")\n",
    "    JPY_LOGGER.info(\"!\"*100)\n",
    "elif filtering_on_item_pairs:\n",
    "    final_pick_pairs, pairs_idx_each_cluster, ret_items = gen_pca_cluster_filtered_pairs_each_cluster(pca_input_data=pca_input_data, pca_kwargs=pca_kwargs, cluster_kwargs=cluster_kwargs)\n",
    "    JPY_LOGGER.info(\"!!!!!!!!!!!!!!!!!!!!!!!!!!!!!!!!!!!!!!!!! final_pick_pairs !!!!!!!!!!!!!!!!!!!!!!!!!!!!!!!!!!!!!!!!!\")\n",
    "    JPY_LOGGER.info(f\"final_pick_pairs: {final_pick_pairs}\")\n",
    "    JPY_LOGGER.info(f\"pairs_idx_each_cluster: {pairs_idx_each_cluster}\")\n",
    "    JPY_LOGGER.info(f\"ret_items: {ret_items}\")\n",
    "    JPY_LOGGER.info(\"!\"*100)"
   ]
  },
  {
   "cell_type": "code",
   "execution_count": null,
   "id": "da7ee4b1-3b83-40bf-b34e-3f9553e71c99",
   "metadata": {
    "tags": []
   },
   "outputs": [],
   "source": []
  },
  {
   "cell_type": "markdown",
   "id": "06c4976b-4f75-4d1d-965b-c1d2000674b7",
   "metadata": {},
   "source": [
    "# ..."
   ]
  },
  {
   "cell_type": "code",
   "execution_count": null,
   "id": "4cee94b9-ecf9-4162-9b88-ba34ee2a6b53",
   "metadata": {},
   "outputs": [],
   "source": []
  }
 ],
 "metadata": {
  "kernelspec": {
   "display_name": "Python 3 (ipykernel)",
   "language": "python",
   "name": "python3"
  },
  "language_info": {
   "codemirror_mode": {
    "name": "ipython",
    "version": 3
   },
   "file_extension": ".py",
   "mimetype": "text/x-python",
   "name": "python",
   "nbconvert_exporter": "python",
   "pygments_lexer": "ipython3",
   "version": "3.10.13"
  }
 },
 "nbformat": 4,
 "nbformat_minor": 5
}
