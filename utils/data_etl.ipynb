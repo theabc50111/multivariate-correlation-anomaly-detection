{
 "cells": [
  {
   "cell_type": "code",
   "execution_count": null,
   "id": "22f85403-51cb-4cef-bc56-d869a6f681fa",
   "metadata": {
    "tags": []
   },
   "outputs": [],
   "source": [
    "import logging\n",
    "import random\n",
    "from pprint import pformat\n",
    "from pathlib import Path\n",
    "import sys\n",
    "import re\n",
    "\n",
    "import numpy as np\n",
    "import pandas as pd\n",
    "import matplotlib.pyplot as plt\n",
    "\n",
    "\n",
    "sys.path.append(\"/workspace/correlation-change-predict/utils\")\n",
    "from utils import split_and_norm_data, load_multiple_data\n",
    "\n",
    "logging.basicConfig(level=logging.INFO)"
   ]
  },
  {
   "cell_type": "markdown",
   "id": "7dc17fb4-23ee-4158-8ad2-68d39f6b4f59",
   "metadata": {},
   "source": [
    "# Prepare data"
   ]
  },
  {
   "cell_type": "markdown",
   "id": "fef5cebb-06ab-4a8c-b020-6bb8be200126",
   "metadata": {
    "tags": []
   },
   "source": [
    "## Load Data"
   ]
  },
  {
   "cell_type": "code",
   "execution_count": null,
   "id": "42b67e25-f464-46ab-80a2-4281c33b1a7e",
   "metadata": {
    "tags": []
   },
   "outputs": [],
   "source": [
    "data_implement = \"SP500_20112015_CORR_MEAN_NEGATIVE_KEEP\"  # watch options by printing /config/data_config.yaml/[\"DATASETS\"].keys()\n",
    "# etl set setting\n",
    "retrieve_items_setting = \"-train_train\"  # -train_train|-train_all\n",
    "# set correlation type\n",
    "corr_type = \"pearson\"  # \"pearson\" | \"cross_corr\"\n",
    "# set CORR_WINDOW and CORR_STRIDE length\n",
    "w_l=50 ; s_l = 1\n",
    "# Decide how to calculate corr_ser\n",
    "corr_ser_clac_method = \"corr_ser_calc_regular\"  # corr_ser_calc_regular|corr_ser_calc_abs\n",
    "\n",
    "dataset_df, corr_df, target_df, corr_property_df = load_multiple_data(data_implement=data_implement,\n",
    "                                                                      retrieve_items_setting=retrieve_items_setting,\n",
    "                                                                      corr_type=corr_type, w_l=w_l, s_l=s_l,\n",
    "                                                                      corr_ser_clac_method=corr_ser_clac_method)\n",
    "display(dataset_df)\n",
    "display(corr_df)\n",
    "display(target_df)\n",
    "display(corr_property_df)"
   ]
  },
  {
   "cell_type": "markdown",
   "id": "ff6c4a3e-bf02-4d42-aee5-221b3509ccf8",
   "metadata": {
    "jp-MarkdownHeadingCollapsed": true,
    "tags": []
   },
   "source": [
    "## ETL setting"
   ]
  },
  {
   "cell_type": "code",
   "execution_count": null,
   "id": "0abf5baa-3cb1-4f15-a1f0-36ce225359be",
   "metadata": {
    "tags": []
   },
   "outputs": [],
   "source": [
    "# set to retrieve partial corr_data\n",
    "custom_idxs = [1, 2, 4, 6, 7, 9, 12, 14, 15, 17, 18, 20] # None|[int1, int2, ...]\n",
    "custom_idxs = None"
   ]
  },
  {
   "cell_type": "code",
   "execution_count": null,
   "id": "6192749f-ca48-407e-aef0-31d970def6de",
   "metadata": {
    "tags": []
   },
   "outputs": [],
   "source": [
    "tr_data, val_data, test_data = split_and_norm_data(model_input_df=corr_df, target_df=target_df, batch_size=64)\n",
    "if custom_idxs:\n",
    "    selected_tr_data = {\"model_input\": tr_data[\"model_input\"][custom_idxs, ::], \"target\": tr_data[\"target\"][custom_idxs, ::]}\n",
    "    selected_val_data = {\"model_input\": val_data[\"model_input\"][custom_idxs, ::], \"target\": val_data[\"target\"][custom_idxs, ::]}\n",
    "    selected_test_data = {\"model_input\": test_data[\"model_input\"][custom_idxs, ::], \"target\": test_data[\"target\"][custom_idxs, ::]}\n",
    "    selected_item_pairs = corr_df.index[custom_idxs]\n",
    "else:\n",
    "    selected_tr_data = tr_data\n",
    "    selected_val_data = val_data\n",
    "    selected_test_data = test_data\n",
    "    selected_item_pairs = corr_df.index\n",
    "logging.info(f\"tr_data[model_input].shape:{tr_data['model_input'].shape}, tr_data[target].shape:{tr_data['target'].shape}, val_data[model_input].shape:{val_data['model_input'].shape}, val_data[target].shape:{val_data['target'].shape}, test_data[model_input].shape:{test_data['model_input'].shape}, test_data[target].shape:{test_data['target'].shape}\")\n",
    "logging.info(f\"selected_tr_data[model_input].shape:{selected_tr_data['model_input'].shape}, selected_tr_data[target].shape:{selected_tr_data['target'].shape}, selected_val_data[model_input].shape:{selected_val_data['model_input'].shape}, selected_val_data[target].shape:{selected_val_data['target'].shape}, selected_test_data[model_input].shape:{selected_test_data['model_input'].shape}, selected_test_data[target].shape:{selected_test_data['target'].shape}\")\n",
    "logging.info(f\"===selected_item_pairs:===\")\n",
    "display(pd.DataFrame(selected_item_pairs))\n",
    "logging.info(f\"===selected_item_pairs===\")"
   ]
  },
  {
   "cell_type": "markdown",
   "id": "06c4976b-4f75-4d1d-965b-c1d2000674b7",
   "metadata": {
    "tags": []
   },
   "source": [
    "# Observe train_data and val_data class distribution"
   ]
  },
  {
   "cell_type": "code",
   "execution_count": null,
   "id": "4cee94b9-ecf9-4162-9b88-ba34ee2a6b53",
   "metadata": {
    "tags": []
   },
   "outputs": [],
   "source": [
    "assert (np.unique(selected_tr_data['target']).shape[0] < 10) and (np.unique(selected_val_data['target']).shape[0] < 10), \"number of classes should lower than 10\"\n",
    "tr_labels, tr_labels_freq_counts = np.unique(selected_tr_data['target'], return_counts=True)\n",
    "val_labels, val_labels_freq_counts = np.unique(selected_val_data['target'], return_counts=True)\n",
    "fig, axes = plt.subplots(nrows=1, ncols=2, figsize=(16,9))\n",
    "colors_labels_map = {\"-1.0\": \"lime\", \"0.0\": \"darkorange\", \"1.0\": \"dodgerblue\"}\n",
    "axes[0].pie(tr_labels_freq_counts, labels=tr_labels, autopct='%1.1f%%', textprops={'fontsize': 24}, colors=[colors_labels_map[str(label)] for label in tr_labels])\n",
    "axes[0].set_title(\"Train\", fontsize=32)\n",
    "axes[1].pie(val_labels_freq_counts, labels=val_labels, autopct='%1.1f%%', textprops={'fontsize': 24}, colors=[colors_labels_map[str(label)] for label in val_labels])\n",
    "axes[1].set_title(\"Validation\", fontsize=32)\n",
    "fig_title = re.sub(r\"SP500_\\d*_CORR_MEAN_\", \"\", data_implement)\n",
    "fig.suptitle(f'{fig_title}', fontsize=40)\n",
    "plt.show()\n",
    "plt.close()"
   ]
  },
  {
   "cell_type": "markdown",
   "id": "99b08207-467b-4218-a65a-a21a3c950928",
   "metadata": {},
   "source": [
    "# Observe properties of Corrlelation series"
   ]
  },
  {
   "cell_type": "markdown",
   "id": "fa74b325-172b-4b81-970d-388f94827fac",
   "metadata": {},
   "source": [
    "## Display `corr_property_df` of `selected_item_pairs`"
   ]
  },
  {
   "cell_type": "code",
   "execution_count": null,
   "id": "97131e58-635d-41a9-a51a-1c215d396672",
   "metadata": {},
   "outputs": [],
   "source": [
    "selected_mask = corr_property_df.index.isin(selected_item_pairs)\n",
    "display(corr_property_df.loc[selected_mask, ::])"
   ]
  },
  {
   "cell_type": "markdown",
   "id": "be1eaeac-7a10-40e1-acf1-4af7bc05b924",
   "metadata": {
    "tags": []
   },
   "source": [
    "## plot distribution of all correlation of all item_pairs"
   ]
  },
  {
   "cell_type": "code",
   "execution_count": null,
   "id": "1eb4c357-b323-48aa-94b3-40947367782f",
   "metadata": {
    "tags": []
   },
   "outputs": [],
   "source": [
    "fig, axes = plt.subplots(nrows=2, ncols=1)\n",
    "fig.set_size_inches(6, 10)\n",
    "all_item_pair_corrs = np.hstack(corr_df.values)\n",
    "axes[0].hist(all_item_pair_corrs, bins=20)\n",
    "axes[0].xaxis.set_tick_params(labelsize=18)\n",
    "axes[1].boxplot(all_item_pair_corrs)\n",
    "axes[1].yaxis.set_tick_params(labelsize=18)\n",
    "plt.show()\n",
    "plt.close()"
   ]
  },
  {
   "cell_type": "code",
   "execution_count": null,
   "id": "803d6b84-7ff5-4f94-8482-39f5fcc7d9dc",
   "metadata": {
    "tags": []
   },
   "outputs": [],
   "source": []
  },
  {
   "cell_type": "markdown",
   "id": "1571d430-a83d-4779-a53c-40142e83ca2e",
   "metadata": {},
   "source": [
    "# ..."
   ]
  },
  {
   "cell_type": "code",
   "execution_count": null,
   "id": "8d04eff7-c7d3-4f25-8775-c9a0c35e9752",
   "metadata": {},
   "outputs": [],
   "source": []
  }
 ],
 "metadata": {
  "kernelspec": {
   "display_name": "Python 3 (ipykernel)",
   "language": "python",
   "name": "python3"
  },
  "language_info": {
   "codemirror_mode": {
    "name": "ipython",
    "version": 3
   },
   "file_extension": ".py",
   "mimetype": "text/x-python",
   "name": "python",
   "nbconvert_exporter": "python",
   "pygments_lexer": "ipython3",
   "version": "3.10.13"
  }
 },
 "nbformat": 4,
 "nbformat_minor": 5
}
