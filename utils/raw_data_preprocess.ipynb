{
 "cells": [
  {
   "cell_type": "code",
   "execution_count": null,
   "id": "50940a49-f60b-4b72-8931-545ba7e8b190",
   "metadata": {
    "tags": []
   },
   "outputs": [],
   "source": [
    "from pathlib import Path\n",
    "import os\n",
    "import logging\n",
    "import pprint\n",
    "from pprint import pformat\n",
    "import random\n",
    "\n",
    "import numpy as np\n",
    "import pandas as pd\n",
    "import matplotlib.pyplot as plt\n",
    "import dynamic_yaml\n",
    "import yaml\n",
    "\n",
    "with open('../config/data_config.yaml') as f:\n",
    "    data = dynamic_yaml.load(f)\n",
    "    data_cfg = yaml.full_load(dynamic_yaml.dump(data))\n",
    "\n",
    "logging.basicConfig(level=logging.INFO)\n",
    "logging.debug(pformat(data_cfg, indent=1, width=100, compact=True))"
   ]
  },
  {
   "cell_type": "markdown",
   "id": "28bcd81c-da35-4013-8b8e-27708d1dcd95",
   "metadata": {
    "tags": []
   },
   "source": [
    "# preprocess funcctions"
   ]
  },
  {
   "cell_type": "code",
   "execution_count": null,
   "id": "090f0d9f-33ea-4af1-9dba-729a981b4a7b",
   "metadata": {
    "tags": []
   },
   "outputs": [],
   "source": [
    "def sort_date(raw_data: pd.DataFrame):\n",
    "    assert raw_data.index.name == 'Date'\n",
    "    sort_idx_df = raw_data.sort_index(axis=1)\n",
    "    sort_pre_df = sort_idx_df.sort_values('Date')\n",
    "    return sort_pre_df\n",
    "\n",
    "def remove_na(sort_pre_df:pd.DataFrame, null_values_ratio: float = 0.01):\n",
    "    assert sort_pre_df.index.is_monotonic_increasing, \"`sort_pre_df` has not been sorted.\"\n",
    "    if sort_pre_df.isna().sum().sum() == 0:\n",
    "        logging.info(\"sort_pre_df don't have nulls.\")\n",
    "        return sort_pre_df\n",
    "    nulls_max_num = int(len(sort_pre_df)*0.01)\n",
    "    na_mask = sort_pre_df.isna().sum() < nulls_max_num # null values ratio==1%\n",
    "    for exceed_null_ratio_idx in np.where(na_mask == False)[0]:\n",
    "        logging.info(f\"exceed_null_ratio item:{sort_pre_df.columns[exceed_null_ratio_idx]}, its number of null_values {sort_pre_df.isna().sum().iloc[exceed_null_ratio_idx]}\")\n",
    "    na_pre_df = sort_pre_df.iloc[::, na_mask.tolist()]\n",
    "    na_pre_df = na_pre_df.ffill()\n",
    "    na_pre_df = na_pre_df.bfill()\n",
    "    assert na_pre_df.isna().sum().sum() == 0, f'Still has {na_pre_df.isna().sum().sum()} null value'\n",
    "\n",
    "    return na_pre_df"
   ]
  },
  {
   "cell_type": "markdown",
   "id": "eb514b57-347a-4ba1-ac30-276699ab9fb5",
   "metadata": {
    "jp-MarkdownHeadingCollapsed": true,
    "tags": []
   },
   "source": [
    "# preprocess setting"
   ]
  },
  {
   "cell_type": "code",
   "execution_count": null,
   "id": "0d76bbd7-3b9e-4432-b8d6-29a2b5ce1b51",
   "metadata": {
    "tags": []
   },
   "outputs": [],
   "source": [
    "is_save_file = True\n",
    "raw_file_dir = Path(data_cfg['DIRS']['DATASET_DIR'])/f\"raw_data\"\n",
    "preprocessed_file_dir = Path(data_cfg['DIRS']['DATASET_DIR'])/f\"is_pre_data\"\n",
    "assert raw_file_dir.exists() and preprocessed_file_dir.exists()"
   ]
  },
  {
   "cell_type": "markdown",
   "id": "c1877a1b-bf32-4ba6-8e4f-2d8384269ad1",
   "metadata": {
    "execution": {
     "iopub.execute_input": "2023-10-19T07:28:26.524427Z",
     "iopub.status.busy": "2023-10-19T07:28:26.524294Z",
     "iopub.status.idle": "2023-10-19T07:28:26.531159Z",
     "shell.execute_reply": "2023-10-19T07:28:26.530945Z",
     "shell.execute_reply.started": "2023-10-19T07:28:26.524419Z"
    },
    "tags": []
   },
   "source": [
    "# Preprocess raw dataset"
   ]
  },
  {
   "cell_type": "markdown",
   "id": "d8477e8c-a4a2-4e9c-8110-217cad0401b3",
   "metadata": {
    "execution": {
     "iopub.execute_input": "2023-10-19T08:53:25.998252Z",
     "iopub.status.busy": "2023-10-19T08:53:25.997797Z",
     "iopub.status.idle": "2023-10-19T08:53:26.019318Z",
     "shell.execute_reply": "2023-10-19T08:53:26.018984Z",
     "shell.execute_reply.started": "2023-10-19T08:53:25.998218Z"
    },
    "jp-MarkdownHeadingCollapsed": true,
    "tags": []
   },
   "source": [
    "## SP500_20082017"
   ]
  },
  {
   "cell_type": "code",
   "execution_count": null,
   "id": "e0711670-530d-407a-964f-372081f1c057",
   "metadata": {
    "tags": []
   },
   "outputs": [],
   "source": [
    "raw_file_name = 'sp500_hold_19982023_adj_close.csv'\n",
    "output_file_name = 'sp500_hold_20082017_adj_close-pre.csv'\n",
    "raw_data = pd.read_csv(raw_file_dir/raw_file_name)\n",
    "raw_data['Date'] = pd.to_datetime(raw_data['Date'])\n",
    "raw_data = raw_data.set_index('Date')\n",
    "raw_data = raw_data.query('Date >= \"2008-01-01\" and Date <= \"2017-12-31\"')\n",
    "display(raw_data)\n",
    "sort_pre_df = sort_date(raw_data)\n",
    "na_pre_df = remove_na(sort_pre_df)\n",
    "output_df = na_pre_df"
   ]
  },
  {
   "cell_type": "markdown",
   "id": "840eabcf-7586-4371-97de-2e15721df2ed",
   "metadata": {
    "jp-MarkdownHeadingCollapsed": true,
    "tags": []
   },
   "source": [
    "## SP500_20082012"
   ]
  },
  {
   "cell_type": "code",
   "execution_count": null,
   "id": "42303ff3-c9d4-4f8c-9e00-09fffbdf9fb1",
   "metadata": {
    "tags": []
   },
   "outputs": [],
   "source": [
    "raw_file_name = 'sp500_hold_19982023_adj_close.csv'\n",
    "output_file_name = 'sp500_hold_20082012_adj_close-pre.csv'\n",
    "raw_data = pd.read_csv(raw_file_dir/raw_file_name)\n",
    "raw_data['Date'] = pd.to_datetime(raw_data['Date'])\n",
    "raw_data = raw_data.set_index('Date')\n",
    "raw_data = raw_data.query('Date >= \"2008-01-01\" and Date <= \"2012-12-31\"')\n",
    "display(raw_data)\n",
    "sort_pre_df = sort_date(raw_data)\n",
    "na_pre_df = remove_na(sort_pre_df)\n",
    "output_df = na_pre_df"
   ]
  },
  {
   "cell_type": "markdown",
   "id": "77bf8084-6b17-415d-907e-170cb4cd4ea7",
   "metadata": {
    "jp-MarkdownHeadingCollapsed": true,
    "tags": []
   },
   "source": [
    "## SP500_20112015"
   ]
  },
  {
   "cell_type": "code",
   "execution_count": null,
   "id": "57ea29a1-0462-440b-a699-5a450bdedb19",
   "metadata": {
    "tags": []
   },
   "outputs": [],
   "source": [
    "raw_file_name = 'sp500_hold_19982023_adj_close.csv'\n",
    "output_file_name = 'sp500_hold_20112015_adj_close-pre.csv'\n",
    "raw_data = pd.read_csv(raw_file_dir/raw_file_name)\n",
    "raw_data['Date'] = pd.to_datetime(raw_data['Date'])\n",
    "raw_data = raw_data.set_index('Date')\n",
    "raw_data = raw_data.query('Date >= \"2011-01-01\" and Date <= \"2015-12-31\"')\n",
    "display(raw_data)\n",
    "sort_pre_df = sort_date(raw_data)\n",
    "na_pre_df = remove_na(sort_pre_df)\n",
    "output_df = na_pre_df"
   ]
  },
  {
   "cell_type": "markdown",
   "id": "791b8d51-a0bd-418b-9f06-0f1bbf2ee619",
   "metadata": {
    "jp-MarkdownHeadingCollapsed": true,
    "tags": []
   },
   "source": [
    "## SP500_20122017"
   ]
  },
  {
   "cell_type": "code",
   "execution_count": null,
   "id": "6fbb4962-e48d-4952-8427-51d52be9dbd0",
   "metadata": {
    "tags": []
   },
   "outputs": [],
   "source": [
    "raw_file_name = 'sp500_hold_19982023_adj_close.csv'\n",
    "output_file_name = 'sp500_hold_20122017_adj_close-pre.csv'\n",
    "raw_data = pd.read_csv(raw_file_dir/raw_file_name)\n",
    "raw_data['Date'] = pd.to_datetime(raw_data['Date'])\n",
    "raw_data = raw_data.set_index('Date')\n",
    "raw_data = raw_data.query('Date >= \"2012-01-01\" and Date <= \"2017-12-31\"')\n",
    "display(raw_data)\n",
    "sort_pre_df = sort_date(raw_data)\n",
    "na_pre_df = remove_na(sort_pre_df)\n",
    "output_df = na_pre_df"
   ]
  },
  {
   "cell_type": "markdown",
   "id": "558af2d0-7c93-4d84-9121-1b38b9d4c145",
   "metadata": {
    "jp-MarkdownHeadingCollapsed": true,
    "tags": []
   },
   "source": [
    "## Tetuan City power consumption Dataset"
   ]
  },
  {
   "cell_type": "code",
   "execution_count": null,
   "id": "e0446659-8a4c-480d-962a-cb5a9e61ffa4",
   "metadata": {
    "tags": []
   },
   "outputs": [],
   "source": [
    "raw_file_name = 'Tetuan City power consumption.csv'\n",
    "output_file_name = 'tetuan_city_power_consumption-pre.csv'\n",
    "raw_data = pd.read_csv(raw_file_dir/raw_file_name)\n",
    "raw_data['Date'] = pd.to_datetime(raw_data['Date'])\n",
    "raw_data = raw_data.set_index('Date')\n",
    "display(raw_data)\n",
    "sort_pre_df = sort_date(raw_data)\n",
    "na_pre_df = remove_na(sort_pre_df)\n",
    "output_df = na_pre_df.iloc[::18, ::] # extract for every 3 hour"
   ]
  },
  {
   "cell_type": "markdown",
   "id": "f990a845-d713-487e-b69d-89acd551aa78",
   "metadata": {
    "jp-MarkdownHeadingCollapsed": true,
    "tags": []
   },
   "source": [
    "## Nvidia stock & Bitcoin"
   ]
  },
  {
   "cell_type": "code",
   "execution_count": null,
   "id": "4f3433ed-426f-4bbb-85bb-1470e63e3197",
   "metadata": {
    "tags": []
   },
   "outputs": [],
   "source": [
    "bitcoin_raw_file_name = 'bitcoin_20102022.csv'\n",
    "nvda_raw_file_name = 'nvda_20102022.csv'\n",
    "output_file_name = \"bitcoin_nvda_20122022-pre.csv\"\n",
    "bitcoin_raw_data = pd.read_csv(raw_file_dir/bitcoin_raw_file_name)\n",
    "nvda_raw_data = pd.read_csv(raw_file_dir/nvda_raw_file_name)\n",
    "bitcoin_raw_data['Date'] = pd.to_datetime(bitcoin_raw_data['Date'])\n",
    "nvda_raw_data['Date'] = pd.to_datetime(nvda_raw_data['Date'])\n",
    "raw_data = pd.merge(bitcoin_raw_data, nvda_raw_data, on=[\"Date\"], how=\"right\").set_index(\"Date\")\n",
    "display(raw_data)\n",
    "sort_pre_df = sort_date(raw_data)\n",
    "na_pre_df = remove_na(sort_pre_df)\n",
    "output_df = na_pre_df.iloc[len(na_pre_df)-2519:, ::]"
   ]
  },
  {
   "cell_type": "markdown",
   "id": "28eeb33c-52d5-4a16-bd27-9ae530a61d99",
   "metadata": {
    "jp-MarkdownHeadingCollapsed": true,
    "tags": []
   },
   "source": [
    "# Output Data"
   ]
  },
  {
   "cell_type": "code",
   "execution_count": null,
   "id": "1abae538-9fd2-40a9-a76b-ff90862c8a9d",
   "metadata": {
    "tags": []
   },
   "outputs": [],
   "source": [
    "if is_save_file:\n",
    "    output_df.to_csv(preprocessed_file_dir/output_file_name)\n",
    "    logging.info(f\"{output_file_name} has been saved to {preprocessed_file_dir}\")\n",
    "display(output_df)"
   ]
  }
 ],
 "metadata": {
  "kernelspec": {
   "display_name": "Python 3 (ipykernel)",
   "language": "python",
   "name": "python3"
  },
  "language_info": {
   "codemirror_mode": {
    "name": "ipython",
    "version": 3
   },
   "file_extension": ".py",
   "mimetype": "text/x-python",
   "name": "python",
   "nbconvert_exporter": "python",
   "pygments_lexer": "ipython3",
   "version": "3.10.13"
  }
 },
 "nbformat": 4,
 "nbformat_minor": 5
}
